{
  "nbformat": 4,
  "nbformat_minor": 0,
  "metadata": {
    "colab": {
      "provenance": [],
      "gpuType": "T4"
    },
    "kernelspec": {
      "name": "python3",
      "display_name": "Python 3"
    },
    "language_info": {
      "name": "python"
    },
    "accelerator": "GPU"
  },
  "cells": [
    {
      "cell_type": "code",
      "execution_count": null,
      "metadata": {
        "id": "lgLs2XYgio1z"
      },
      "outputs": [],
      "source": [
        "from sklearn.preprocessing import LabelBinarizer\n",
        "from tensorflow import keras\n",
        "from keras.utils import plot_model\n",
        "\n",
        "import tensorflow as tf\n",
        "import numpy as np\n",
        "import pandas as pd\n",
        "import matplotlib.pyplot as plt\n",
        "import cv2\n",
        "import os\n",
        "\n",
        "from keras.preprocessing.image import ImageDataGenerator\n",
        "from keras.models import Sequential\n",
        "from keras.layers import Convolution2D, MaxPooling2D, Flatten, Dense, Dropout"
      ]
    },
    {
      "cell_type": "code",
      "source": [
        "from google.colab import drive\n",
        "drive.mount('/content/gdrive')"
      ],
      "metadata": {
        "colab": {
          "base_uri": "https://localhost:8080/"
        },
        "id": "UUq09hxdjNZ4",
        "outputId": "c7fd6100-5d59-4b99-af50-153c8ee188f4"
      },
      "execution_count": null,
      "outputs": [
        {
          "output_type": "stream",
          "name": "stdout",
          "text": [
            "Mounted at /content/gdrive\n"
          ]
        }
      ]
    },
    {
      "cell_type": "code",
      "source": [
        "training_path = \"/content/gdrive/MyDrive/ML_Final/data/train\"\n",
        "\n",
        "file_names = os.listdir(training_path)\n",
        "\n",
        "print(file_names[:10])\n"
      ],
      "metadata": {
        "colab": {
          "base_uri": "https://localhost:8080/"
        },
        "id": "PpVLGjGzjebn",
        "outputId": "1f909ad1-c3ad-43c7-baee-9270cdb6e791"
      },
      "execution_count": null,
      "outputs": [
        {
          "output_type": "stream",
          "name": "stdout",
          "text": [
            "['10_jpg.rf.7c41153caebddbedea46488b511253d8.jpg', '203_jpg.rf.cb9e5f48eaebe54bea41135c867ecd0c.jpg', '1142_jpg.rf.5431f7d2e21a2af591f16a1562598c50.jpg', '763_jpg.rf.2d86cd3e1b2679ceaac26c10687747c3.jpg', '838_jpg.rf.0973dd0b9954a9fa5158234847d12c60.jpg', '992_jpg.rf.2e0369ecc044013c2e6a86b385ef9967.jpg', '836_jpg.rf.f2e0a9edee489c7e75a1f5db0382226a.jpg', '339_jpg.rf.7d13eb68c174bfb650e2897a7261b621.jpg', '572_jpg.rf.09147f128daa6fe587efd54d41d0de94.jpg', '512_jpg.rf.54f79d520c0bba8f92fd24b9f09041d9.jpg']\n"
          ]
        }
      ]
    },
    {
      "cell_type": "code",
      "source": [
        "from google.colab.patches import cv2_imshow\n",
        "img = cv2.imread(training_path +\"/\"+file_names[0])\n",
        "img = cv2.cvtColor(img, cv2.COLOR_RGB2GRAY)\n",
        "new_img = img / 255.0\n",
        "print(new_img)"
      ],
      "metadata": {
        "colab": {
          "base_uri": "https://localhost:8080/"
        },
        "id": "xh5dkWOW5fpG",
        "outputId": "ef81cc8d-c8ae-4df7-d5b6-983244e33be7"
      },
      "execution_count": null,
      "outputs": [
        {
          "output_type": "stream",
          "name": "stdout",
          "text": [
            "[[0.23921569 0.23921569 0.23921569 ... 0.15294118 0.15294118 0.15294118]\n",
            " [0.23921569 0.23921569 0.23921569 ... 0.14509804 0.14509804 0.14117647]\n",
            " [0.23921569 0.23921569 0.23921569 ... 0.18431373 0.18039216 0.18039216]\n",
            " ...\n",
            " [0.51372549 0.51764706 0.51372549 ... 0.29411765 0.29411765 0.29411765]\n",
            " [0.50980392 0.51764706 0.51372549 ... 0.29411765 0.29411765 0.29411765]\n",
            " [0.50196078 0.50980392 0.50588235 ... 0.30588235 0.30196078 0.30196078]]\n"
          ]
        }
      ]
    },
    {
      "cell_type": "code",
      "source": [
        "print(new_img.shape)"
      ],
      "metadata": {
        "colab": {
          "base_uri": "https://localhost:8080/"
        },
        "id": "Cm6NJMCe7WYr",
        "outputId": "be2581b7-d0e5-4696-ac06-84552ecc9621"
      },
      "execution_count": null,
      "outputs": [
        {
          "output_type": "stream",
          "name": "stdout",
          "text": [
            "(400, 400)\n"
          ]
        }
      ]
    },
    {
      "cell_type": "code",
      "source": [
        "import pandas as pd\n",
        "\n",
        "\n",
        "\n",
        "classes_to_exclude = set();\n",
        "for i in range(10):\n",
        "  classes_to_exclude.add(' Numeric-'+str(i))\n",
        "\n",
        "print(classes_to_exclude)\n"
      ],
      "metadata": {
        "id": "s0E0czxZF3hz",
        "colab": {
          "base_uri": "https://localhost:8080/"
        },
        "outputId": "e12c5fde-99a5-40aa-803b-32f79c45d028"
      },
      "execution_count": null,
      "outputs": [
        {
          "output_type": "stream",
          "name": "stdout",
          "text": [
            "{' Numeric-2', ' Numeric-6', ' Numeric-3', ' Numeric-9', ' Numeric-4', ' Numeric-5', ' Numeric-8', ' Numeric-7', ' Numeric-0', ' Numeric-1'}\n"
          ]
        }
      ]
    },
    {
      "cell_type": "code",
      "source": [
        "image_dir = '/content/gdrive/MyDrive/ML_Final/data/train'\n",
        "\n",
        "\n",
        "csv_file = '/content/gdrive/MyDrive/ML_Final/data/train_classes.csv'\n",
        "\n",
        "\n",
        "labels_df = pd.read_csv(csv_file)\n",
        "\n",
        "labels_df['label_column'] = labels_df.iloc[:, 1:].idxmax(axis=1)\n",
        "\n",
        "labels_df = labels_df[~labels_df['label_column'].isin(classes_to_exclude)]\n",
        "class_counts = labels_df['label_column'].value_counts()\n",
        "\n",
        "print(\"-----------------Classwise Training Data------------------\")\n",
        "print(class_counts)\n",
        "print(\"Total: \" + str(len(labels_df)))"
      ],
      "metadata": {
        "colab": {
          "base_uri": "https://localhost:8080/"
        },
        "id": "J_x2Or2iMqSm",
        "outputId": "78bd465b-193d-409e-fc60-9996afd35093"
      },
      "execution_count": null,
      "outputs": [
        {
          "output_type": "stream",
          "name": "stdout",
          "text": [
            "-----------------Classwise Training Data------------------\n",
            " Alphabet-A    651\n",
            " Alphabet-J    606\n",
            " Alphabet-H    594\n",
            " Alphabet-S    591\n",
            " Alphabet-M    582\n",
            " Alphabet-K    573\n",
            " Alphabet-B    573\n",
            " Alphabet-C    570\n",
            " Alphabet-N    558\n",
            " Alphabet-T    555\n",
            " Alphabet-F    555\n",
            " Alphabet-P    546\n",
            " Alphabet-L    540\n",
            " Alphabet-U    522\n",
            " Alphabet-Q    519\n",
            " Alphabet-I    507\n",
            " Alphabet-g    504\n",
            " Alphabet-R    495\n",
            " Alphabet-Z    492\n",
            " Alphabet-Y    486\n",
            " Alphabet-E    474\n",
            " Alphabet-V    471\n",
            " Alphabet-X    471\n",
            " Alphabet-W    468\n",
            " Alphabet-D    393\n",
            " Alphabet-O    393\n",
            "Name: label_column, dtype: int64\n",
            "Total: 13689\n"
          ]
        }
      ]
    },
    {
      "cell_type": "code",
      "source": [
        "test_image_dir = '/content/gdrive/MyDrive/ML_Final/data/test'\n",
        "\n",
        "\n",
        "test_csv_file = '/content/gdrive/MyDrive/ML_Final/data/test_classes.csv'\n",
        "\n",
        "test_labels_df = pd.read_csv(test_csv_file)\n",
        "\n",
        "\n",
        "test_labels_df['label_column'] = test_labels_df.iloc[:, 1:].idxmax(axis=1)\n",
        "\n",
        "test_labels_df = test_labels_df[~test_labels_df['label_column'].isin(classes_to_exclude)]\n",
        "class_counts = test_labels_df['label_column'].value_counts()\n",
        "print(\"-----------------Classwise Testing Data------------------\")\n",
        "print(class_counts)\n",
        "print(\"Total: \" + str(len(test_labels_df)))"
      ],
      "metadata": {
        "colab": {
          "base_uri": "https://localhost:8080/"
        },
        "id": "4vZHoH_AGKdZ",
        "outputId": "d1f8693d-49f5-4d24-e18d-d4194727a377"
      },
      "execution_count": null,
      "outputs": [
        {
          "output_type": "stream",
          "name": "stdout",
          "text": [
            "-----------------Classwise Testing Data------------------\n",
            " Alphabet-F    71\n",
            " Alphabet-B    71\n",
            " Alphabet-V    70\n",
            " Alphabet-I    66\n",
            " Alphabet-g    65\n",
            " Alphabet-W    63\n",
            " Alphabet-T    62\n",
            " Alphabet-N    62\n",
            " Alphabet-C    61\n",
            " Alphabet-Q    61\n",
            " Alphabet-P    59\n",
            " Alphabet-M    59\n",
            " Alphabet-E    58\n",
            " Alphabet-R    58\n",
            " Alphabet-L    56\n",
            " Alphabet-U    55\n",
            " Alphabet-H    55\n",
            " Alphabet-A    54\n",
            " Alphabet-K    53\n",
            " Alphabet-J    53\n",
            " Alphabet-Y    52\n",
            " Alphabet-S    50\n",
            " Alphabet-D    46\n",
            " Alphabet-X    45\n",
            " Alphabet-O    41\n",
            " Alphabet-Z    40\n",
            "Name: label_column, dtype: int64\n",
            "Total: 1486\n"
          ]
        }
      ]
    },
    {
      "cell_type": "code",
      "source": [
        "valid_image_dir = '/content/gdrive/MyDrive/ML_Final/data/valid'\n",
        "\n",
        "\n",
        "valid_csv_file = '/content/gdrive/MyDrive/ML_Final/data/valid_classes.csv'\n",
        "\n",
        "valid_labels_df = pd.read_csv(valid_csv_file)\n",
        "\n",
        "valid_labels_df['label_column'] = valid_labels_df.iloc[:, 1:].idxmax(axis=1)\n",
        "\n",
        "valid_labels_df = valid_labels_df[~valid_labels_df['label_column'].isin(classes_to_exclude)]\n",
        "class_counts = valid_labels_df['label_column'].value_counts()\n",
        "print(\"-----------------Classwise Validation Data------------------\")\n",
        "print(class_counts)\n",
        "print(\"Total: \" + str(len(valid_labels_df)))"
      ],
      "metadata": {
        "colab": {
          "base_uri": "https://localhost:8080/"
        },
        "id": "WTAZJv3L1jb6",
        "outputId": "e9484b6f-e49a-412b-d631-1a19b6973cd1"
      },
      "execution_count": null,
      "outputs": [
        {
          "output_type": "stream",
          "name": "stdout",
          "text": [
            "-----------------Classwise Validation Data------------------\n",
            " Alphabet-g    77\n",
            " Alphabet-L    77\n",
            " Alphabet-K    73\n",
            " Alphabet-I    72\n",
            " Alphabet-P    68\n",
            " Alphabet-S    68\n",
            " Alphabet-W    66\n",
            " Alphabet-R    63\n",
            " Alphabet-E    61\n",
            " Alphabet-A    60\n",
            " Alphabet-Q    60\n",
            " Alphabet-F    59\n",
            " Alphabet-B    59\n",
            " Alphabet-M    58\n",
            " Alphabet-H    57\n",
            " Alphabet-C    55\n",
            " Alphabet-V    54\n",
            " Alphabet-U    53\n",
            " Alphabet-Z    51\n",
            " Alphabet-N    48\n",
            " Alphabet-T    48\n",
            " Alphabet-X    47\n",
            " Alphabet-Y    47\n",
            " Alphabet-J    42\n",
            " Alphabet-D    40\n",
            " Alphabet-O    39\n",
            "Name: label_column, dtype: int64\n",
            "Total: 1502\n"
          ]
        }
      ]
    },
    {
      "cell_type": "code",
      "source": [
        "\n",
        "\n",
        "\n",
        "image_generator = ImageDataGenerator(rescale=1./255,\n",
        "                                     shear_range=0.2,\n",
        "                                      zoom_range=0.2,\n",
        "                                      horizontal_flip=True)\n",
        "\n",
        "\n",
        "data_generator = image_generator.flow_from_dataframe(\n",
        "    dataframe=labels_df,\n",
        "    directory=image_dir,\n",
        "    x_col='filename',\n",
        "    y_col='label_column',\n",
        "    target_size=(64, 64),\n",
        "    batch_size=64,\n",
        "    class_mode='categorical'\n",
        ")\n",
        "\n",
        "valid_image_generator = ImageDataGenerator(rescale=1./255)\n",
        "\n",
        "\n",
        "valid_generator = valid_image_generator.flow_from_dataframe(\n",
        "    dataframe=valid_labels_df,\n",
        "    directory=valid_image_dir,\n",
        "    x_col='filename',\n",
        "    y_col='label_column',\n",
        "    target_size=(64, 64),\n",
        "    batch_size=64,\n",
        "    class_mode='categorical'\n",
        ")\n",
        "\n"
      ],
      "metadata": {
        "colab": {
          "base_uri": "https://localhost:8080/"
        },
        "id": "hLKAh7d_mHYB",
        "outputId": "30d2ed39-cac9-4a89-b613-6ace7db8cc01"
      },
      "execution_count": null,
      "outputs": [
        {
          "output_type": "stream",
          "name": "stdout",
          "text": [
            "Found 13689 validated image filenames belonging to 26 classes.\n",
            "Found 1502 validated image filenames belonging to 26 classes.\n"
          ]
        }
      ]
    },
    {
      "cell_type": "code",
      "source": [
        "\n",
        "from tensorflow.keras.applications.vgg16 import VGG16\n",
        "from tensorflow.keras.applications.vgg16 import preprocess_input\n",
        "from tensorflow.keras import layers, models\n",
        "## Loading VGG16 model\n",
        "pretrainded_model = VGG16(weights=\"imagenet\", include_top=False, input_shape=(64, 64, 3))\n",
        "pretrainded_model.trainable = False ## Not trainable weights\n",
        "\n",
        "\n",
        "flatten_layer = layers.Flatten()\n",
        "dense_layer_1 = layers.Dense(128, activation='relu')\n",
        "prediction_layer = layers.Dense(26, activation='softmax')\n",
        "\n",
        "\n",
        "model = models.Sequential([\n",
        "    pretrainded_model,\n",
        "    flatten_layer,\n",
        "    dense_layer_1,\n",
        "    prediction_layer\n",
        "])\n"
      ],
      "metadata": {
        "id": "2r2RYxx__3Wf",
        "colab": {
          "base_uri": "https://localhost:8080/"
        },
        "outputId": "792c117a-538c-4ede-ddf6-63a3b198d21a"
      },
      "execution_count": null,
      "outputs": [
        {
          "output_type": "stream",
          "name": "stdout",
          "text": [
            "Downloading data from https://storage.googleapis.com/tensorflow/keras-applications/vgg16/vgg16_weights_tf_dim_ordering_tf_kernels_notop.h5\n",
            "58889256/58889256 [==============================] - 0s 0us/step\n"
          ]
        }
      ]
    },
    {
      "cell_type": "code",
      "source": [
        "# Run the CNN model\n",
        "model.compile(loss='categorical_crossentropy',\n",
        "              optimizer='sgd',\n",
        "              metrics=['accuracy'])\n",
        "\n",
        "Hist = model.fit(\n",
        "        data_generator,\n",
        "        epochs=25,\n",
        "        validation_data = valid_generator,\n",
        "      )"
      ],
      "metadata": {
        "colab": {
          "base_uri": "https://localhost:8080/"
        },
        "id": "X7qFCnfwjiOg",
        "outputId": "2ec9b45d-6d52-4d48-f7e0-5d20cbe5445e"
      },
      "execution_count": null,
      "outputs": [
        {
          "output_type": "stream",
          "name": "stdout",
          "text": [
            "Epoch 1/25\n",
            "214/214 [==============================] - 724s 3s/step - loss: 2.7587 - accuracy: 0.2764 - val_loss: 2.1518 - val_accuracy: 0.4674\n",
            "Epoch 2/25\n",
            "214/214 [==============================] - 57s 268ms/step - loss: 1.9931 - accuracy: 0.5057 - val_loss: 1.5592 - val_accuracy: 0.6438\n",
            "Epoch 3/25\n",
            "214/214 [==============================] - 58s 270ms/step - loss: 1.5748 - accuracy: 0.6178 - val_loss: 1.2525 - val_accuracy: 0.6744\n",
            "Epoch 4/25\n",
            "214/214 [==============================] - 57s 265ms/step - loss: 1.3178 - accuracy: 0.6773 - val_loss: 1.0349 - val_accuracy: 0.7270\n",
            "Epoch 5/25\n",
            "214/214 [==============================] - 59s 274ms/step - loss: 1.1325 - accuracy: 0.7249 - val_loss: 0.8525 - val_accuracy: 0.8029\n",
            "Epoch 6/25\n",
            "214/214 [==============================] - 61s 285ms/step - loss: 1.0143 - accuracy: 0.7507 - val_loss: 0.7375 - val_accuracy: 0.8429\n",
            "Epoch 7/25\n",
            "214/214 [==============================] - 58s 269ms/step - loss: 0.9135 - accuracy: 0.7761 - val_loss: 0.6761 - val_accuracy: 0.8449\n",
            "Epoch 8/25\n",
            "214/214 [==============================] - 59s 275ms/step - loss: 0.8351 - accuracy: 0.7920 - val_loss: 0.5875 - val_accuracy: 0.8762\n",
            "Epoch 9/25\n",
            "214/214 [==============================] - 58s 271ms/step - loss: 0.7693 - accuracy: 0.8112 - val_loss: 0.5446 - val_accuracy: 0.8782\n",
            "Epoch 10/25\n",
            "214/214 [==============================] - 59s 276ms/step - loss: 0.7187 - accuracy: 0.8237 - val_loss: 0.4842 - val_accuracy: 0.8988\n",
            "Epoch 11/25\n",
            "214/214 [==============================] - 59s 275ms/step - loss: 0.6709 - accuracy: 0.8290 - val_loss: 0.4442 - val_accuracy: 0.9148\n",
            "Epoch 12/25\n",
            "214/214 [==============================] - 59s 276ms/step - loss: 0.6316 - accuracy: 0.8406 - val_loss: 0.4133 - val_accuracy: 0.9201\n",
            "Epoch 13/25\n",
            "214/214 [==============================] - 58s 271ms/step - loss: 0.5905 - accuracy: 0.8537 - val_loss: 0.3648 - val_accuracy: 0.9407\n",
            "Epoch 14/25\n",
            "214/214 [==============================] - 58s 273ms/step - loss: 0.5646 - accuracy: 0.8586 - val_loss: 0.3454 - val_accuracy: 0.9334\n",
            "Epoch 15/25\n",
            "214/214 [==============================] - 59s 278ms/step - loss: 0.5358 - accuracy: 0.8657 - val_loss: 0.3307 - val_accuracy: 0.9381\n",
            "Epoch 16/25\n",
            "214/214 [==============================] - 58s 272ms/step - loss: 0.5102 - accuracy: 0.8721 - val_loss: 0.2991 - val_accuracy: 0.9467\n",
            "Epoch 17/25\n",
            "214/214 [==============================] - 59s 276ms/step - loss: 0.4894 - accuracy: 0.8792 - val_loss: 0.2816 - val_accuracy: 0.9494\n",
            "Epoch 18/25\n",
            "214/214 [==============================] - 59s 276ms/step - loss: 0.4659 - accuracy: 0.8862 - val_loss: 0.2756 - val_accuracy: 0.9554\n",
            "Epoch 19/25\n",
            "214/214 [==============================] - 58s 269ms/step - loss: 0.4530 - accuracy: 0.8880 - val_loss: 0.2686 - val_accuracy: 0.9494\n",
            "Epoch 20/25\n",
            "214/214 [==============================] - 61s 286ms/step - loss: 0.4303 - accuracy: 0.8912 - val_loss: 0.2414 - val_accuracy: 0.9574\n",
            "Epoch 21/25\n",
            "214/214 [==============================] - 60s 278ms/step - loss: 0.4134 - accuracy: 0.8984 - val_loss: 0.2332 - val_accuracy: 0.9660\n",
            "Epoch 22/25\n",
            "214/214 [==============================] - 59s 274ms/step - loss: 0.3988 - accuracy: 0.9012 - val_loss: 0.2275 - val_accuracy: 0.9567\n",
            "Epoch 23/25\n",
            "214/214 [==============================] - 59s 276ms/step - loss: 0.3807 - accuracy: 0.9072 - val_loss: 0.2122 - val_accuracy: 0.9647\n",
            "Epoch 24/25\n",
            "214/214 [==============================] - 58s 272ms/step - loss: 0.3757 - accuracy: 0.9051 - val_loss: 0.1990 - val_accuracy: 0.9680\n",
            "Epoch 25/25\n",
            "214/214 [==============================] - 59s 276ms/step - loss: 0.3663 - accuracy: 0.9082 - val_loss: 0.1975 - val_accuracy: 0.9700\n"
          ]
        }
      ]
    },
    {
      "cell_type": "code",
      "source": [
        "len(labels_df.columns)"
      ],
      "metadata": {
        "colab": {
          "base_uri": "https://localhost:8080/"
        },
        "id": "iacgut9o9hft",
        "outputId": "f9e8bb55-aae9-4282-e169-7c30de0a57eb"
      },
      "execution_count": null,
      "outputs": [
        {
          "output_type": "execute_result",
          "data": {
            "text/plain": [
              "37"
            ]
          },
          "metadata": {},
          "execution_count": 10
        }
      ]
    },
    {
      "cell_type": "code",
      "source": [
        "model.save(\"/content/gdrive/MyDrive/ML_Final/Transer_classifier_VGG16.h5\")"
      ],
      "metadata": {
        "colab": {
          "base_uri": "https://localhost:8080/"
        },
        "id": "DbiQelt19psl",
        "outputId": "a58a88d4-5528-455e-a3ab-de1e2bd45b85"
      },
      "execution_count": null,
      "outputs": [
        {
          "output_type": "stream",
          "name": "stderr",
          "text": [
            "/usr/local/lib/python3.10/dist-packages/keras/src/engine/training.py:3079: UserWarning: You are saving your model as an HDF5 file via `model.save()`. This file format is considered legacy. We recommend using instead the native Keras format, e.g. `model.save('my_model.keras')`.\n",
            "  saving_api.save_model(\n"
          ]
        }
      ]
    },
    {
      "cell_type": "code",
      "source": [
        "import pickle\n",
        "with open('/content/gdrive/MyDrive/ML_Final/history_Transer_classifier_VGG16.pkl', 'wb') as file:\n",
        "    pickle.dump(Hist.history, file)"
      ],
      "metadata": {
        "id": "37EmH8ptNrBd"
      },
      "execution_count": null,
      "outputs": []
    },
    {
      "cell_type": "code",
      "source": [
        "import matplotlib.pyplot as plt\n",
        "import pickle\n",
        "\n",
        "\n",
        "with open('/content/gdrive/MyDrive/ML_Final/history_Transer_classifier_VGG16.pkl', 'rb') as file:\n",
        "    history = pickle.load(file)\n",
        "\n",
        "# Plot training & validation loss values\n",
        "plt.plot(history['loss'])\n",
        "plt.plot(history['val_loss'])\n",
        "plt.title('Model Loss')\n",
        "plt.xlabel('Epoch')\n",
        "plt.ylabel('Loss')\n",
        "plt.legend(['Train', 'Validation'], loc='upper right')\n",
        "\n",
        "# Save the loss plot\n",
        "plt.savefig('/content/gdrive/MyDrive/ML_Final/ISRL_26_loss_plot.png')\n",
        "plt.show()\n",
        "\n",
        "# Plot training & validation accuracy values\n",
        "plt.plot(history['accuracy'])\n",
        "plt.plot(history['val_accuracy'])\n",
        "plt.title('Model Accuracy')\n",
        "plt.xlabel('Epoch')\n",
        "plt.ylabel('Accuracy')\n",
        "plt.legend(['Train', 'Validation'], loc='lower right')\n",
        "\n",
        "# Save the accuracy plot\n",
        "plt.savefig('/content/gdrive/MyDrive/ML_Final/ISRL_26_accuracy_plot.png')\n",
        "plt.show()\n"
      ],
      "metadata": {
        "colab": {
          "base_uri": "https://localhost:8080/",
          "height": 927
        },
        "id": "N5e-2CYsURkS",
        "outputId": "e0d5755a-8a2f-44ef-c299-361272672ce4"
      },
      "execution_count": null,
      "outputs": [
        {
          "output_type": "display_data",
          "data": {
            "text/plain": [
              "<Figure size 640x480 with 1 Axes>"
            ],
            "image/png": "[encoded data removed]"
          },
          "metadata": {}
        },
        {
          "output_type": "display_data",
          "data": {
            "text/plain": [
              "<Figure size 640x480 with 1 Axes>"
            ],
            "image/png": "[encoded data removed]"
          },
          "metadata": {}
        }
      ]
    },
    {
      "cell_type": "code",
      "source": [
        "valid_labels_df[:5]"
      ],
      "metadata": {
        "colab": {
          "base_uri": "https://localhost:8080/",
          "height": 273
        },
        "id": "FDqNKqjlYUgM",
        "outputId": "84c38103-20e8-4bc5-f4c8-c1b6feaec12b"
      },
      "execution_count": null,
      "outputs": [
        {
          "output_type": "execute_result",
          "data": {
            "text/plain": [
              "                                          filename   Alphabet-A   Alphabet-B  \\\n",
              "0    2_jpg.rf.00b2816e1e4703f4a68925c4272847dd.jpg            0            0   \n",
              "1   60_jpg.rf.0055225d7459438c4a34d670070ed85b.jpg            0            0   \n",
              "2  401_jpg.rf.0079a16d641c92be87ffd0bfa845aaa5.jpg            0            1   \n",
              "3  920_jpg.rf.00db5c209af6c04725b9bd70ed01a853.jpg            0            0   \n",
              "4  321_jpg.rf.00e5ee63e4e2bd1069f60c43021893d0.jpg            0            0   \n",
              "\n",
              "    Alphabet-C   Alphabet-D   Alphabet-E   Alphabet-F   Alphabet-H  \\\n",
              "0            0            0            0            0            0   \n",
              "1            0            0            0            0            0   \n",
              "2            0            0            0            0            0   \n",
              "3            0            0            0            0            0   \n",
              "4            0            0            0            0            0   \n",
              "\n",
              "    Alphabet-I   Alphabet-J  ...   Numeric-1   Numeric-2   Numeric-3  \\\n",
              "0            0            0  ...           0           1           0   \n",
              "1            0            0  ...           0           0           0   \n",
              "2            0            0  ...           0           0           0   \n",
              "3            0            0  ...           0           1           0   \n",
              "4            0            0  ...           0           0           0   \n",
              "\n",
              "    Numeric-4   Numeric-5   Numeric-6   Numeric-7   Numeric-8   Numeric-9  \\\n",
              "0           0           0           0           0           0           0   \n",
              "1           0           0           0           0           1           0   \n",
              "2           0           0           0           0           0           0   \n",
              "3           0           0           0           0           0           0   \n",
              "4           0           0           0           0           0           0   \n",
              "\n",
              "   label_column  \n",
              "0     Numeric-2  \n",
              "1     Numeric-8  \n",
              "2    Alphabet-B  \n",
              "3     Numeric-2  \n",
              "4    Alphabet-N  \n",
              "\n",
              "[5 rows x 37 columns]"
            ],
            "text/html": [
              "\n",
              "  <div id=\"df-9de3c91b-45b9-4547-923b-e9db3fbafe91\" class=\"colab-df-container\">\n",
              "    <div>\n",
              "<style scoped>\n",
              "    .dataframe tbody tr th:only-of-type {\n",
              "        vertical-align: middle;\n",
              "    }\n",
              "\n",
              "    .dataframe tbody tr th {\n",
              "        vertical-align: top;\n",
              "    }\n",
              "\n",
              "    .dataframe thead th {\n",
              "        text-align: right;\n",
              "    }\n",
              "</style>\n",
              "<table border=\"1\" class=\"dataframe\">\n",
              "  <thead>\n",
              "    <tr style=\"text-align: right;\">\n",
              "      <th></th>\n",
              "      <th>filename</th>\n",
              "      <th>Alphabet-A</th>\n",
              "      <th>Alphabet-B</th>\n",
              "      <th>Alphabet-C</th>\n",
              "      <th>Alphabet-D</th>\n",
              "      <th>Alphabet-E</th>\n",
              "      <th>Alphabet-F</th>\n",
              "      <th>Alphabet-H</th>\n",
              "      <th>Alphabet-I</th>\n",
              "      <th>Alphabet-J</th>\n",
              "      <th>...</th>\n",
              "      <th>Numeric-1</th>\n",
              "      <th>Numeric-2</th>\n",
              "      <th>Numeric-3</th>\n",
              "      <th>Numeric-4</th>\n",
              "      <th>Numeric-5</th>\n",
              "      <th>Numeric-6</th>\n",
              "      <th>Numeric-7</th>\n",
              "      <th>Numeric-8</th>\n",
              "      <th>Numeric-9</th>\n",
              "      <th>label_column</th>\n",
              "    </tr>\n",
              "  </thead>\n",
              "  <tbody>\n",
              "    <tr>\n",
              "      <th>0</th>\n",
              "      <td>2_jpg.rf.00b2816e1e4703f4a68925c4272847dd.jpg</td>\n",
              "      <td>0</td>\n",
              "      <td>0</td>\n",
              "      <td>0</td>\n",
              "      <td>0</td>\n",
              "      <td>0</td>\n",
              "      <td>0</td>\n",
              "      <td>0</td>\n",
              "      <td>0</td>\n",
              "      <td>0</td>\n",
              "      <td>...</td>\n",
              "      <td>0</td>\n",
              "      <td>1</td>\n",
              "      <td>0</td>\n",
              "      <td>0</td>\n",
              "      <td>0</td>\n",
              "      <td>0</td>\n",
              "      <td>0</td>\n",
              "      <td>0</td>\n",
              "      <td>0</td>\n",
              "      <td>Numeric-2</td>\n",
              "    </tr>\n",
              "    <tr>\n",
              "      <th>1</th>\n",
              "      <td>60_jpg.rf.0055225d7459438c4a34d670070ed85b.jpg</td>\n",
              "      <td>0</td>\n",
              "      <td>0</td>\n",
              "      <td>0</td>\n",
              "      <td>0</td>\n",
              "      <td>0</td>\n",
              "      <td>0</td>\n",
              "      <td>0</td>\n",
              "      <td>0</td>\n",
              "      <td>0</td>\n",
              "      <td>...</td>\n",
              "      <td>0</td>\n",
              "      <td>0</td>\n",
              "      <td>0</td>\n",
              "      <td>0</td>\n",
              "      <td>0</td>\n",
              "      <td>0</td>\n",
              "      <td>0</td>\n",
              "      <td>1</td>\n",
              "      <td>0</td>\n",
              "      <td>Numeric-8</td>\n",
              "    </tr>\n",
              "    <tr>\n",
              "      <th>2</th>\n",
              "      <td>401_jpg.rf.0079a16d641c92be87ffd0bfa845aaa5.jpg</td>\n",
              "      <td>0</td>\n",
              "      <td>1</td>\n",
              "      <td>0</td>\n",
              "      <td>0</td>\n",
              "      <td>0</td>\n",
              "      <td>0</td>\n",
              "      <td>0</td>\n",
              "      <td>0</td>\n",
              "      <td>0</td>\n",
              "      <td>...</td>\n",
              "      <td>0</td>\n",
              "      <td>0</td>\n",
              "      <td>0</td>\n",
              "      <td>0</td>\n",
              "      <td>0</td>\n",
              "      <td>0</td>\n",
              "      <td>0</td>\n",
              "      <td>0</td>\n",
              "      <td>0</td>\n",
              "      <td>Alphabet-B</td>\n",
              "    </tr>\n",
              "    <tr>\n",
              "      <th>3</th>\n",
              "      <td>920_jpg.rf.00db5c209af6c04725b9bd70ed01a853.jpg</td>\n",
              "      <td>0</td>\n",
              "      <td>0</td>\n",
              "      <td>0</td>\n",
              "      <td>0</td>\n",
              "      <td>0</td>\n",
              "      <td>0</td>\n",
              "      <td>0</td>\n",
              "      <td>0</td>\n",
              "      <td>0</td>\n",
              "      <td>...</td>\n",
              "      <td>0</td>\n",
              "      <td>1</td>\n",
              "      <td>0</td>\n",
              "      <td>0</td>\n",
              "      <td>0</td>\n",
              "      <td>0</td>\n",
              "      <td>0</td>\n",
              "      <td>0</td>\n",
              "      <td>0</td>\n",
              "      <td>Numeric-2</td>\n",
              "    </tr>\n",
              "    <tr>\n",
              "      <th>4</th>\n",
              "      <td>321_jpg.rf.00e5ee63e4e2bd1069f60c43021893d0.jpg</td>\n",
              "      <td>0</td>\n",
              "      <td>0</td>\n",
              "      <td>0</td>\n",
              "      <td>0</td>\n",
              "      <td>0</td>\n",
              "      <td>0</td>\n",
              "      <td>0</td>\n",
              "      <td>0</td>\n",
              "      <td>0</td>\n",
              "      <td>...</td>\n",
              "      <td>0</td>\n",
              "      <td>0</td>\n",
              "      <td>0</td>\n",
              "      <td>0</td>\n",
              "      <td>0</td>\n",
              "      <td>0</td>\n",
              "      <td>0</td>\n",
              "      <td>0</td>\n",
              "      <td>0</td>\n",
              "      <td>Alphabet-N</td>\n",
              "    </tr>\n",
              "  </tbody>\n",
              "</table>\n",
              "<p>5 rows × 37 columns</p>\n",
              "</div>\n",
              "    <div class=\"colab-df-buttons\">\n",
              "\n",
              "  <div class=\"colab-df-container\">\n",
              "    <button class=\"colab-df-convert\" onclick=\"convertToInteractive('df-9de3c91b-45b9-4547-923b-e9db3fbafe91')\"\n",
              "            title=\"Convert this dataframe to an interactive table.\"\n",
              "            style=\"display:none;\">\n",
              "\n",
              "  <svg xmlns=\"http://www.w3.org/2000/svg\" height=\"24px\" viewBox=\"0 -960 960 960\">\n",
              "    <path d=\"M120-120v-720h720v720H120Zm60-500h600v-160H180v160Zm220 220h160v-160H400v160Zm0 220h160v-160H400v160ZM180-400h160v-160H180v160Zm440 0h160v-160H620v160ZM180-180h160v-160H180v160Zm440 0h160v-160H620v160Z\"/>\n",
              "  </svg>\n",
              "    </button>\n",
              "\n",
              "  <style>\n",
              "    .colab-df-container {\n",
              "      display:flex;\n",
              "      gap: 12px;\n",
              "    }\n",
              "\n",
              "    .colab-df-convert {\n",
              "      background-color: #E8F0FE;\n",
              "      border: none;\n",
              "      border-radius: 50%;\n",
              "      cursor: pointer;\n",
              "      display: none;\n",
              "      fill: #1967D2;\n",
              "      height: 32px;\n",
              "      padding: 0 0 0 0;\n",
              "      width: 32px;\n",
              "    }\n",
              "\n",
              "    .colab-df-convert:hover {\n",
              "      background-color: #E2EBFA;\n",
              "      box-shadow: 0px 1px 2px rgba(60, 64, 67, 0.3), 0px 1px 3px 1px rgba(60, 64, 67, 0.15);\n",
              "      fill: #174EA6;\n",
              "    }\n",
              "\n",
              "    .colab-df-buttons div {\n",
              "      margin-bottom: 4px;\n",
              "    }\n",
              "\n",
              "    [theme=dark] .colab-df-convert {\n",
              "      background-color: #3B4455;\n",
              "      fill: #D2E3FC;\n",
              "    }\n",
              "\n",
              "    [theme=dark] .colab-df-convert:hover {\n",
              "      background-color: #434B5C;\n",
              "      box-shadow: 0px 1px 3px 1px rgba(0, 0, 0, 0.15);\n",
              "      filter: drop-shadow(0px 1px 2px rgba(0, 0, 0, 0.3));\n",
              "      fill: #FFFFFF;\n",
              "    }\n",
              "  </style>\n",
              "\n",
              "    <script>\n",
              "      const buttonEl =\n",
              "        document.querySelector('#df-9de3c91b-45b9-4547-923b-e9db3fbafe91 button.colab-df-convert');\n",
              "      buttonEl.style.display =\n",
              "        google.colab.kernel.accessAllowed ? 'block' : 'none';\n",
              "\n",
              "      async function convertToInteractive(key) {\n",
              "        const element = document.querySelector('#df-9de3c91b-45b9-4547-923b-e9db3fbafe91');\n",
              "        const dataTable =\n",
              "          await google.colab.kernel.invokeFunction('convertToInteractive',\n",
              "                                                    [key], {});\n",
              "        if (!dataTable) return;\n",
              "\n",
              "        const docLinkHtml = 'Like what you see? Visit the ' +\n",
              "          '<a target=\"_blank\" href=https://colab.research.google.com/notebooks/data_table.ipynb>data table notebook</a>'\n",
              "          + ' to learn more about interactive tables.';\n",
              "        element.innerHTML = '';\n",
              "        dataTable['output_type'] = 'display_data';\n",
              "        await google.colab.output.renderOutput(dataTable, element);\n",
              "        const docLink = document.createElement('div');\n",
              "        docLink.innerHTML = docLinkHtml;\n",
              "        element.appendChild(docLink);\n",
              "      }\n",
              "    </script>\n",
              "  </div>\n",
              "\n",
              "\n",
              "<div id=\"df-c67ad583-e842-4f31-9d09-8dd2d7914146\">\n",
              "  <button class=\"colab-df-quickchart\" onclick=\"quickchart('df-c67ad583-e842-4f31-9d09-8dd2d7914146')\"\n",
              "            title=\"Suggest charts\"\n",
              "            style=\"display:none;\">\n",
              "\n",
              "<svg xmlns=\"http://www.w3.org/2000/svg\" height=\"24px\"viewBox=\"0 0 24 24\"\n",
              "     width=\"24px\">\n",
              "    <g>\n",
              "        <path d=\"M19 3H5c-1.1 0-2 .9-2 2v14c0 1.1.9 2 2 2h14c1.1 0 2-.9 2-2V5c0-1.1-.9-2-2-2zM9 17H7v-7h2v7zm4 0h-2V7h2v10zm4 0h-2v-4h2v4z\"/>\n",
              "    </g>\n",
              "</svg>\n",
              "  </button>\n",
              "\n",
              "<style>\n",
              "  .colab-df-quickchart {\n",
              "      --bg-color: #E8F0FE;\n",
              "      --fill-color: #1967D2;\n",
              "      --hover-bg-color: #E2EBFA;\n",
              "      --hover-fill-color: #174EA6;\n",
              "      --disabled-fill-color: #AAA;\n",
              "      --disabled-bg-color: #DDD;\n",
              "  }\n",
              "\n",
              "  [theme=dark] .colab-df-quickchart {\n",
              "      --bg-color: #3B4455;\n",
              "      --fill-color: #D2E3FC;\n",
              "      --hover-bg-color: #434B5C;\n",
              "      --hover-fill-color: #FFFFFF;\n",
              "      --disabled-bg-color: #3B4455;\n",
              "      --disabled-fill-color: #666;\n",
              "  }\n",
              "\n",
              "  .colab-df-quickchart {\n",
              "    background-color: var(--bg-color);\n",
              "    border: none;\n",
              "    border-radius: 50%;\n",
              "    cursor: pointer;\n",
              "    display: none;\n",
              "    fill: var(--fill-color);\n",
              "    height: 32px;\n",
              "    padding: 0;\n",
              "    width: 32px;\n",
              "  }\n",
              "\n",
              "  .colab-df-quickchart:hover {\n",
              "    background-color: var(--hover-bg-color);\n",
              "    box-shadow: 0 1px 2px rgba(60, 64, 67, 0.3), 0 1px 3px 1px rgba(60, 64, 67, 0.15);\n",
              "    fill: var(--button-hover-fill-color);\n",
              "  }\n",
              "\n",
              "  .colab-df-quickchart-complete:disabled,\n",
              "  .colab-df-quickchart-complete:disabled:hover {\n",
              "    background-color: var(--disabled-bg-color);\n",
              "    fill: var(--disabled-fill-color);\n",
              "    box-shadow: none;\n",
              "  }\n",
              "\n",
              "  .colab-df-spinner {\n",
              "    border: 2px solid var(--fill-color);\n",
              "    border-color: transparent;\n",
              "    border-bottom-color: var(--fill-color);\n",
              "    animation:\n",
              "      spin 1s steps(1) infinite;\n",
              "  }\n",
              "\n",
              "  @keyframes spin {\n",
              "    0% {\n",
              "      border-color: transparent;\n",
              "      border-bottom-color: var(--fill-color);\n",
              "      border-left-color: var(--fill-color);\n",
              "    }\n",
              "    20% {\n",
              "      border-color: transparent;\n",
              "      border-left-color: var(--fill-color);\n",
              "      border-top-color: var(--fill-color);\n",
              "    }\n",
              "    30% {\n",
              "      border-color: transparent;\n",
              "      border-left-color: var(--fill-color);\n",
              "      border-top-color: var(--fill-color);\n",
              "      border-right-color: var(--fill-color);\n",
              "    }\n",
              "    40% {\n",
              "      border-color: transparent;\n",
              "      border-right-color: var(--fill-color);\n",
              "      border-top-color: var(--fill-color);\n",
              "    }\n",
              "    60% {\n",
              "      border-color: transparent;\n",
              "      border-right-color: var(--fill-color);\n",
              "    }\n",
              "    80% {\n",
              "      border-color: transparent;\n",
              "      border-right-color: var(--fill-color);\n",
              "      border-bottom-color: var(--fill-color);\n",
              "    }\n",
              "    90% {\n",
              "      border-color: transparent;\n",
              "      border-bottom-color: var(--fill-color);\n",
              "    }\n",
              "  }\n",
              "</style>\n",
              "\n",
              "  <script>\n",
              "    async function quickchart(key) {\n",
              "      const quickchartButtonEl =\n",
              "        document.querySelector('#' + key + ' button');\n",
              "      quickchartButtonEl.disabled = true;  // To prevent multiple clicks.\n",
              "      quickchartButtonEl.classList.add('colab-df-spinner');\n",
              "      try {\n",
              "        const charts = await google.colab.kernel.invokeFunction(\n",
              "            'suggestCharts', [key], {});\n",
              "      } catch (error) {\n",
              "        console.error('Error during call to suggestCharts:', error);\n",
              "      }\n",
              "      quickchartButtonEl.classList.remove('colab-df-spinner');\n",
              "      quickchartButtonEl.classList.add('colab-df-quickchart-complete');\n",
              "    }\n",
              "    (() => {\n",
              "      let quickchartButtonEl =\n",
              "        document.querySelector('#df-c67ad583-e842-4f31-9d09-8dd2d7914146 button');\n",
              "      quickchartButtonEl.style.display =\n",
              "        google.colab.kernel.accessAllowed ? 'block' : 'none';\n",
              "    })();\n",
              "  </script>\n",
              "</div>\n",
              "    </div>\n",
              "  </div>\n"
            ]
          },
          "metadata": {},
          "execution_count": 15
        }
      ]
    },
    {
      "cell_type": "code",
      "source": [
        "import pandas as pd\n",
        "from tensorflow.keras.models import load_model\n",
        "from tensorflow.keras.preprocessing.image import ImageDataGenerator\n",
        "\n",
        "\n",
        "model = load_model('/content/gdrive/MyDrive/ML_Final/Transer_classifier_VGG16.h5')\n",
        "\n",
        "\n",
        "valid_data_dir = '/content/gdrive/MyDrive/ML_Final/data/valid'\n",
        "\n",
        "valid_csv_file = '/content/gdrive/MyDrive/ML_Final/data/valid_classes.csv'\n",
        "\n",
        "valid_labels_df = pd.read_csv(valid_csv_file)\n",
        "valid_labels_df['label_column'] = valid_labels_df.iloc[:, 1:].idxmax(axis=1)\n",
        "valid_image_generator = ImageDataGenerator(rescale=1./255)\n",
        "classes_to_exclude = set();\n",
        "for i in range(10):\n",
        "  classes_to_exclude.add(' Numeric-'+str(i))\n",
        "\n",
        "print(classes_to_exclude)\n",
        "valid_labels_df = valid_labels_df[~valid_labels_df['label_column'].isin(classes_to_exclude)]\n",
        "\n",
        "\n",
        "valid_data_generator = valid_image_generator.flow_from_dataframe(\n",
        "    dataframe=valid_labels_df,\n",
        "    directory=valid_data_dir,\n",
        "    x_col='filename',\n",
        "    y_col='label_column',\n",
        "    target_size=(64, 64),\n",
        "    batch_size=32,\n",
        "    class_mode='categorical'\n",
        ")\n",
        "\n",
        "\n",
        "evaluation = model.evaluate(valid_data_generator)\n",
        "\n",
        "\n",
        "print(f\"Loss: {evaluation[0]}\")\n",
        "print(f\"Accuracy: {evaluation[1]}\")\n"
      ],
      "metadata": {
        "id": "1ZvpRCisYtIT",
        "colab": {
          "base_uri": "https://localhost:8080/"
        },
        "outputId": "a93c0545-9a4b-4973-d7a3-59ca6b6b6747"
      },
      "execution_count": null,
      "outputs": [
        {
          "output_type": "stream",
          "name": "stdout",
          "text": [
            "{' Numeric-2', ' Numeric-6', ' Numeric-3', ' Numeric-9', ' Numeric-4', ' Numeric-5', ' Numeric-8', ' Numeric-7', ' Numeric-0', ' Numeric-1'}\n",
            "Found 1502 validated image filenames belonging to 26 classes.\n",
            "47/47 [==============================] - 5s 93ms/step - loss: 0.1975 - accuracy: 0.9700\n",
            "Loss: 0.19749511778354645\n",
            "Accuracy: 0.970039963722229\n"
          ]
        }
      ]
    },
    {
      "cell_type": "code",
      "source": [
        "import pandas as pd\n",
        "import numpy as np\n",
        "from tensorflow.keras.models import load_model\n",
        "from tensorflow.keras.preprocessing.image import ImageDataGenerator\n",
        "from sklearn.metrics import confusion_matrix, precision_score, recall_score\n",
        "import matplotlib.pyplot as plt\n",
        "\n",
        "\n",
        "balanced_df = pd.read_csv('/content/gdrive/MyDrive/ML_Final/balanced_data.csv')\n",
        "\n",
        "\n",
        "image_dir = '/content/gdrive/MyDrive/ML_Final/data/test/'\n",
        "\n",
        "\n",
        "test_datagen = ImageDataGenerator(rescale=1. / 255)\n",
        "\n",
        "batch_size = 32\n",
        "target_size = (64, 64)\n",
        "\n",
        "\n",
        "test_generator = test_datagen.flow_from_dataframe(\n",
        "    dataframe=balanced_df,\n",
        "    directory=image_dir,\n",
        "    x_col='filename',\n",
        "    y_col='label_column',\n",
        "    target_size=target_size,\n",
        "    batch_size=batch_size,\n",
        "    class_mode='categorical',\n",
        "    shuffle=False\n",
        "\n",
        "\n",
        "model = load_model('/content/gdrive/MyDrive/ML_Final/Transer_classifier_VGG16.h5')\n",
        "\n",
        "\n",
        "num_samples = balanced_df.shape[0]\n",
        "num_steps = num_samples // batch_size\n",
        "\n",
        "predicted_labels = model.predict(test_generator, steps=num_steps, verbose=1)\n",
        "predicted_classes = np.argmax(predicted_labels, axis=1)\n",
        "\n",
        "# Get true labels\n",
        "true_labels = test_generator.classes[:num_steps * batch_size]\n",
        "\n",
        "# Generate confusion matrix\n",
        "conf_matrix = confusion_matrix(true_labels, predicted_classes)\n",
        "\n",
        "unique_classes = np.unique(true_labels)\n",
        "\n",
        "\n",
        "# Initialize lists to store precision and recall for each class\n",
        "precision_per_class = []\n",
        "recall_per_class = []\n",
        "\n",
        "\n",
        "for cls in unique_classes:\n",
        "    cls_true_labels = (true_labels == cls)\n",
        "    cls_predicted_labels = (predicted_classes == cls)\n",
        "\n",
        "\n",
        "    precision = precision_score(cls_true_labels, cls_predicted_labels)\n",
        "    recall = recall_score(cls_true_labels, cls_predicted_labels)\n",
        "\n",
        "\n",
        "    precision_per_class.append(precision)\n",
        "    recall_per_class.append(recall)\n",
        "\n",
        "for i, cls in enumerate(unique_classes):\n",
        "    print(f\"Class {cls} - Precision: {precision_per_class[i]}, Recall: {recall_per_class[i]}\")\n",
        "\n",
        "\n",
        "\n",
        "\n",
        "plt.figure(figsize=(8, 6))\n",
        "plt.imshow(conf_matrix, cmap=plt.cm.Blues)\n",
        "plt.title('Confusion Matrix')\n",
        "plt.colorbar()\n",
        "plt.xlabel('Predicted labels')\n",
        "plt.ylabel('True labels')\n",
        "plt.show()\n",
        "\n",
        "\n",
        "overall_precision = precision_score(true_labels, predicted_classes, average='weighted')\n",
        "overall_recall = recall_score(true_labels, predicted_classes, average='weighted')\n",
        "overall_f1_score = 2 * (overall_precision * overall_recall) / (overall_precision + overall_recall)\n",
        "\n",
        "print(f'Overall Precision: {overall_precision:.4f}')\n",
        "print(f'Overall Recall: {overall_recall:.4f}')\n",
        "print(f'Overall F1-score: {overall_f1_score:.4f}')\n"
      ],
      "metadata": {
        "colab": {
          "base_uri": "https://localhost:8080/",
          "height": 1000
        },
        "id": "SOJt-o-zZ1Kj",
        "outputId": "3b7860e1-601b-4967-f92f-8ee7ee63d913"
      },
      "execution_count": null,
      "outputs": [
        {
          "output_type": "stream",
          "name": "stdout",
          "text": [
            "Found 1040 validated image filenames belonging to 26 classes.\n",
            "32/32 [==============================] - 257s 8s/step\n",
            "Class 0 - Precision: 1.0, Recall: 0.875\n",
            "Class 1 - Precision: 1.0, Recall: 1.0\n",
            "Class 2 - Precision: 1.0, Recall: 0.975\n",
            "Class 3 - Precision: 1.0, Recall: 0.95\n",
            "Class 4 - Precision: 0.9069767441860465, Recall: 0.975\n",
            "Class 5 - Precision: 1.0, Recall: 0.9\n",
            "Class 6 - Precision: 1.0, Recall: 1.0\n",
            "Class 7 - Precision: 0.975609756097561, Recall: 1.0\n",
            "Class 8 - Precision: 1.0, Recall: 0.95\n",
            "Class 9 - Precision: 0.975609756097561, Recall: 1.0\n",
            "Class 10 - Precision: 0.975609756097561, Recall: 1.0\n",
            "Class 11 - Precision: 0.9302325581395349, Recall: 1.0\n",
            "Class 12 - Precision: 1.0, Recall: 0.9166666666666666\n",
            "Class 13 - Precision: 1.0, Recall: 1.0\n",
            "Class 14 - Precision: 0.9090909090909091, Recall: 1.0\n",
            "Class 15 - Precision: 0.975609756097561, Recall: 1.0\n",
            "Class 16 - Precision: 1.0, Recall: 0.975\n",
            "Class 17 - Precision: 1.0, Recall: 1.0\n",
            "Class 18 - Precision: 1.0, Recall: 0.95\n",
            "Class 19 - Precision: 1.0, Recall: 0.975\n",
            "Class 20 - Precision: 1.0, Recall: 1.0\n",
            "Class 21 - Precision: 0.8636363636363636, Recall: 0.95\n",
            "Class 22 - Precision: 0.9024390243902439, Recall: 0.925\n",
            "Class 23 - Precision: 1.0, Recall: 1.0\n",
            "Class 24 - Precision: 1.0, Recall: 1.0\n",
            "Class 25 - Precision: 0.975609756097561, Recall: 1.0\n"
          ]
        },
        {
          "output_type": "display_data",
          "data": {
            "text/plain": [
              "<Figure size 800x600 with 2 Axes>"
            ],
            "image/png": "[encoded data removed]"
          },
          "metadata": {}
        },
        {
          "output_type": "stream",
          "name": "stdout",
          "text": [
            "Overall Precision: 0.9762\n",
            "Overall Recall: 0.9746\n",
            "Overall F1-score: 0.9754\n"
          ]
        }
      ]
    }
  ]
}