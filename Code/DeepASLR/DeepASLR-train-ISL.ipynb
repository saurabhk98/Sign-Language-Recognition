{
 "cells": [
  {
   "cell_type": "code",
   "execution_count": 1,
   "metadata": {
    "executionInfo": {
     "elapsed": 5002,
     "status": "ok",
     "timestamp": 1702328029291,
     "user": {
      "displayName": "Kunjan Vaghela",
      "userId": "07564681710207928793"
     },
     "user_tz": 300
    },
    "id": "lgLs2XYgio1z"
   },
   "outputs": [
    {
     "name": "stderr",
     "output_type": "stream",
     "text": [
      "2023-12-13 21:00:27.246860: I tensorflow/core/platform/cpu_feature_guard.cc:182] This TensorFlow binary is optimized to use available CPU instructions in performance-critical operations.\n",
      "To enable the following instructions: SSE4.1 SSE4.2 AVX AVX2 FMA, in other operations, rebuild TensorFlow with the appropriate compiler flags.\n"
     ]
    }
   ],
   "source": [
    "from sklearn.preprocessing import LabelBinarizer\n",
    "from tensorflow import keras\n",
    "from keras.utils import plot_model\n",
    "\n",
    "import tensorflow as tf\n",
    "import numpy as np\n",
    "import pandas as pd\n",
    "import matplotlib.pyplot as plt\n",
    "import cv2\n",
    "import os\n",
    "\n",
    "from keras.preprocessing.image import ImageDataGenerator\n",
    "from keras.models import Sequential\n",
    "from keras.layers import Convolution2D, MaxPooling2D, Flatten, Dense, Dropout"
   ]
  },
  {
   "cell_type": "code",
   "execution_count": 2,
   "metadata": {
    "executionInfo": {
     "elapsed": 4,
     "status": "aborted",
     "timestamp": 1702328118049,
     "user": {
      "displayName": "Kunjan Vaghela",
      "userId": "07564681710207928793"
     },
     "user_tz": 300
    },
    "id": "hkEST9qb9sMx"
   },
   "outputs": [
    {
     "name": "stdout",
     "output_type": "stream",
     "text": [
      "{' Numeric-1', ' Numeric-4', ' Numeric-2', ' Numeric-7', ' Numeric-8', ' Numeric-3', ' Numeric-9', ' Numeric-5', ' Numeric-6', ' Numeric-0'}\n"
     ]
    }
   ],
   "source": [
    "classes_to_exclude = set();\n",
    "for i in range(10):\n",
    "  classes_to_exclude.add(' Numeric-'+str(i))\n",
    "\n",
    "print(classes_to_exclude)\n"
   ]
  },
  {
   "cell_type": "code",
   "execution_count": 3,
   "metadata": {
    "executionInfo": {
     "elapsed": 4,
     "status": "aborted",
     "timestamp": 1702328118049,
     "user": {
      "displayName": "Kunjan Vaghela",
      "userId": "07564681710207928793"
     },
     "user_tz": 300
    },
    "id": "l0NgNojQ9u-o"
   },
   "outputs": [
    {
     "name": "stdout",
     "output_type": "stream",
     "text": [
      "-----------------Classwise Training Data------------------\n",
      "label_column\n",
      " Alphabet-A    651\n",
      " Alphabet-J    606\n",
      " Alphabet-H    594\n",
      " Alphabet-S    591\n",
      " Alphabet-M    582\n",
      " Alphabet-K    573\n",
      " Alphabet-B    573\n",
      " Alphabet-C    570\n",
      " Alphabet-N    558\n",
      " Alphabet-T    555\n",
      " Alphabet-F    555\n",
      " Alphabet-P    546\n",
      " Alphabet-L    540\n",
      " Alphabet-U    522\n",
      " Alphabet-Q    519\n",
      " Alphabet-I    507\n",
      " Alphabet-g    504\n",
      " Alphabet-R    495\n",
      " Alphabet-Z    492\n",
      " Alphabet-Y    486\n",
      " Alphabet-E    474\n",
      " Alphabet-V    471\n",
      " Alphabet-X    471\n",
      " Alphabet-W    468\n",
      " Alphabet-D    393\n",
      " Alphabet-O    393\n",
      "Name: count, dtype: int64\n",
      "Total: 13689\n"
     ]
    }
   ],
   "source": [
    "image_dir = 'data/train'\n",
    "\n",
    "# Path to CSV file containing labels\n",
    "csv_file = 'data/train_classes.csv'\n",
    "\n",
    "# Read the CSV file to obtain labels\n",
    "labels_df = pd.read_csv(csv_file)\n",
    "\n",
    "# The column with a value of 1 for each image\n",
    "labels_df['label_column'] = labels_df.iloc[:, 1:].idxmax(axis=1)  # Adjust iloc[:, 1:] based on your CSV structure\n",
    "\n",
    "labels_df = labels_df[~labels_df['label_column'].isin(classes_to_exclude)]\n",
    "class_counts = labels_df['label_column'].value_counts()\n",
    "\n",
    "print(\"-----------------Classwise Training Data------------------\")\n",
    "print(class_counts)\n",
    "print(\"Total: \" + str(len(labels_df)))"
   ]
  },
  {
   "cell_type": "code",
   "execution_count": 4,
   "metadata": {
    "executionInfo": {
     "elapsed": 3,
     "status": "aborted",
     "timestamp": 1702328118049,
     "user": {
      "displayName": "Kunjan Vaghela",
      "userId": "07564681710207928793"
     },
     "user_tz": 300
    },
    "id": "6mEPaq0V9w81"
   },
   "outputs": [
    {
     "name": "stdout",
     "output_type": "stream",
     "text": [
      "-----------------Classwise Testing Data------------------\n",
      "label_column\n",
      " Alphabet-F    71\n",
      " Alphabet-B    71\n",
      " Alphabet-V    70\n",
      " Alphabet-I    66\n",
      " Alphabet-g    65\n",
      " Alphabet-W    63\n",
      " Alphabet-T    62\n",
      " Alphabet-N    62\n",
      " Alphabet-C    61\n",
      " Alphabet-Q    61\n",
      " Alphabet-P    59\n",
      " Alphabet-M    59\n",
      " Alphabet-E    58\n",
      " Alphabet-R    58\n",
      " Alphabet-L    56\n",
      " Alphabet-U    55\n",
      " Alphabet-H    55\n",
      " Alphabet-A    54\n",
      " Alphabet-K    53\n",
      " Alphabet-J    53\n",
      " Alphabet-Y    52\n",
      " Alphabet-S    50\n",
      " Alphabet-D    46\n",
      " Alphabet-X    45\n",
      " Alphabet-O    41\n",
      " Alphabet-Z    40\n",
      "Name: count, dtype: int64\n",
      "Total: 1486\n"
     ]
    }
   ],
   "source": [
    "test_image_dir = 'data/test'\n",
    "\n",
    "# Path to your CSV file containing labels\n",
    "test_csv_file = 'data/test_classes.csv'\n",
    "\n",
    "test_labels_df = pd.read_csv(test_csv_file)\n",
    "\n",
    "# ... (Rest of the code remains the same)\n",
    "# Find the column with a value of 1 for each image\n",
    "test_labels_df['label_column'] = test_labels_df.iloc[:, 1:].idxmax(axis=1)  # Adjust iloc[:, 1:] based on your CSV structure\n",
    "\n",
    "test_labels_df = test_labels_df[~test_labels_df['label_column'].isin(classes_to_exclude)]\n",
    "class_counts = test_labels_df['label_column'].value_counts()\n",
    "print(\"-----------------Classwise Testing Data------------------\")\n",
    "print(class_counts)\n",
    "print(\"Total: \" + str(len(test_labels_df)))"
   ]
  },
  {
   "cell_type": "code",
   "execution_count": 5,
   "metadata": {
    "executionInfo": {
     "elapsed": 3,
     "status": "aborted",
     "timestamp": 1702328118049,
     "user": {
      "displayName": "Kunjan Vaghela",
      "userId": "07564681710207928793"
     },
     "user_tz": 300
    },
    "id": "N8XsAG269zuK"
   },
   "outputs": [
    {
     "name": "stdout",
     "output_type": "stream",
     "text": [
      "-----------------Classwise Validation Data------------------\n",
      "label_column\n",
      " Alphabet-g    77\n",
      " Alphabet-L    77\n",
      " Alphabet-K    73\n",
      " Alphabet-I    72\n",
      " Alphabet-P    68\n",
      " Alphabet-S    68\n",
      " Alphabet-W    66\n",
      " Alphabet-R    63\n",
      " Alphabet-E    61\n",
      " Alphabet-A    60\n",
      " Alphabet-Q    60\n",
      " Alphabet-F    59\n",
      " Alphabet-B    59\n",
      " Alphabet-M    58\n",
      " Alphabet-H    57\n",
      " Alphabet-C    55\n",
      " Alphabet-V    54\n",
      " Alphabet-U    53\n",
      " Alphabet-Z    51\n",
      " Alphabet-N    48\n",
      " Alphabet-T    48\n",
      " Alphabet-X    47\n",
      " Alphabet-Y    47\n",
      " Alphabet-J    42\n",
      " Alphabet-D    40\n",
      " Alphabet-O    39\n",
      "Name: count, dtype: int64\n",
      "Total: 1502\n"
     ]
    }
   ],
   "source": [
    "valid_image_dir = 'data/valid'\n",
    "\n",
    "# Path to your CSV file containing labels\n",
    "valid_csv_file = 'data/valid_classes.csv'\n",
    "\n",
    "valid_labels_df = pd.read_csv(valid_csv_file)\n",
    "\n",
    "# ... (Rest of the code remains the same)\n",
    "# Find the column with a value of 1 for each image\n",
    "valid_labels_df['label_column'] = valid_labels_df.iloc[:, 1:].idxmax(axis=1)  # Adjust iloc[:, 1:] based on your CSV structure\n",
    "\n",
    "valid_labels_df = valid_labels_df[~valid_labels_df['label_column'].isin(classes_to_exclude)]\n",
    "class_counts = valid_labels_df['label_column'].value_counts()\n",
    "print(\"-----------------Classwise Validation Data------------------\")\n",
    "print(class_counts)\n",
    "print(\"Total: \" + str(len(valid_labels_df)))"
   ]
  },
  {
   "cell_type": "code",
   "execution_count": 6,
   "metadata": {
    "executionInfo": {
     "elapsed": 4,
     "status": "aborted",
     "timestamp": 1702328118050,
     "user": {
      "displayName": "Kunjan Vaghela",
      "userId": "07564681710207928793"
     },
     "user_tz": 300
    },
    "id": "Iex_Ip7294Ua"
   },
   "outputs": [
    {
     "name": "stdout",
     "output_type": "stream",
     "text": [
      "Found 13689 validated image filenames belonging to 26 classes.\n",
      "Found 1502 validated image filenames belonging to 26 classes.\n"
     ]
    }
   ],
   "source": [
    "# Initialize ImageDataGenerator for preprocessing images\n",
    "image_generator = ImageDataGenerator(rescale=1./255,\n",
    "                                     shear_range=0.2,\n",
    "                                      zoom_range=0.2,\n",
    "                                      horizontal_flip=True)  # You can add other preprocessing steps as needed\n",
    "\n",
    "# Create an image generator using flow_from_dataframe\n",
    "data_generator = image_generator.flow_from_dataframe(\n",
    "    dataframe=labels_df,\n",
    "    directory=image_dir,\n",
    "    x_col='filename',         # Column containing image filenames in the CSV\n",
    "    y_col='label_column',       # Column containing identified labels for each image\n",
    "    target_size=(64, 64),  # Specify the target size of your images\n",
    "    batch_size=32,      # Set the batch size\n",
    "    class_mode='categorical'    # Choose 'categorical' for multi-class classification\n",
    "    # Add other parameters as needed (e.g., shuffle, seed, etc.)\n",
    ")\n",
    "\n",
    "valid_image_generator = ImageDataGenerator(rescale=1./255)\n",
    "\n",
    "\n",
    "valid_generator = image_generator.flow_from_dataframe(\n",
    "    dataframe=valid_labels_df,\n",
    "    directory=valid_image_dir,\n",
    "    x_col='filename',         # Column containing image filenames in the CSV\n",
    "    y_col='label_column',       # Column containing identified labels for each image\n",
    "    target_size=(64, 64),  # Specify the target size of your images\n",
    "    batch_size=32,      # Set the batch size\n",
    "    class_mode='categorical'    # Choose 'categorical' for multi-class classification\n",
    "    # Add other parameters as needed (e.g., shuffle, seed, etc.)\n",
    ")\n",
    "\n"
   ]
  },
  {
   "cell_type": "code",
   "execution_count": 7,
   "metadata": {
    "executionInfo": {
     "elapsed": 4,
     "status": "aborted",
     "timestamp": 1702328118050,
     "user": {
      "displayName": "Kunjan Vaghela",
      "userId": "07564681710207928793"
     },
     "user_tz": 300
    },
    "id": "4vZHoH_AGKdZ"
   },
   "outputs": [
    {
     "data": {
      "text/html": [
       "<div>\n",
       "<style scoped>\n",
       "    .dataframe tbody tr th:only-of-type {\n",
       "        vertical-align: middle;\n",
       "    }\n",
       "\n",
       "    .dataframe tbody tr th {\n",
       "        vertical-align: top;\n",
       "    }\n",
       "\n",
       "    .dataframe thead th {\n",
       "        text-align: right;\n",
       "    }\n",
       "</style>\n",
       "<table border=\"1\" class=\"dataframe\">\n",
       "  <thead>\n",
       "    <tr style=\"text-align: right;\">\n",
       "      <th></th>\n",
       "      <th>filename</th>\n",
       "      <th>Alphabet-A</th>\n",
       "      <th>Alphabet-B</th>\n",
       "      <th>Alphabet-C</th>\n",
       "      <th>Alphabet-D</th>\n",
       "      <th>Alphabet-E</th>\n",
       "      <th>Alphabet-F</th>\n",
       "      <th>Alphabet-H</th>\n",
       "      <th>Alphabet-I</th>\n",
       "      <th>Alphabet-J</th>\n",
       "      <th>...</th>\n",
       "      <th>Numeric-1</th>\n",
       "      <th>Numeric-2</th>\n",
       "      <th>Numeric-3</th>\n",
       "      <th>Numeric-4</th>\n",
       "      <th>Numeric-5</th>\n",
       "      <th>Numeric-6</th>\n",
       "      <th>Numeric-7</th>\n",
       "      <th>Numeric-8</th>\n",
       "      <th>Numeric-9</th>\n",
       "      <th>label_column</th>\n",
       "    </tr>\n",
       "  </thead>\n",
       "  <tbody>\n",
       "    <tr>\n",
       "      <th>0</th>\n",
       "      <td>1150_jpg.rf.00bc375275d4ead3f5e898b56d50f69f.jpg</td>\n",
       "      <td>0</td>\n",
       "      <td>0</td>\n",
       "      <td>0</td>\n",
       "      <td>0</td>\n",
       "      <td>0</td>\n",
       "      <td>0</td>\n",
       "      <td>0</td>\n",
       "      <td>0</td>\n",
       "      <td>0</td>\n",
       "      <td>...</td>\n",
       "      <td>0</td>\n",
       "      <td>0</td>\n",
       "      <td>0</td>\n",
       "      <td>0</td>\n",
       "      <td>0</td>\n",
       "      <td>0</td>\n",
       "      <td>0</td>\n",
       "      <td>0</td>\n",
       "      <td>0</td>\n",
       "      <td>Alphabet-g</td>\n",
       "    </tr>\n",
       "    <tr>\n",
       "      <th>3</th>\n",
       "      <td>518_jpg.rf.034742535312128d301bf3248c430c8e.jpg</td>\n",
       "      <td>0</td>\n",
       "      <td>0</td>\n",
       "      <td>0</td>\n",
       "      <td>0</td>\n",
       "      <td>0</td>\n",
       "      <td>0</td>\n",
       "      <td>0</td>\n",
       "      <td>0</td>\n",
       "      <td>0</td>\n",
       "      <td>...</td>\n",
       "      <td>0</td>\n",
       "      <td>0</td>\n",
       "      <td>0</td>\n",
       "      <td>0</td>\n",
       "      <td>0</td>\n",
       "      <td>0</td>\n",
       "      <td>0</td>\n",
       "      <td>0</td>\n",
       "      <td>0</td>\n",
       "      <td>Alphabet-R</td>\n",
       "    </tr>\n",
       "    <tr>\n",
       "      <th>4</th>\n",
       "      <td>314_jpg.rf.007b6fc65dc29625f60ce63cfda19021.jpg</td>\n",
       "      <td>0</td>\n",
       "      <td>0</td>\n",
       "      <td>0</td>\n",
       "      <td>0</td>\n",
       "      <td>0</td>\n",
       "      <td>0</td>\n",
       "      <td>0</td>\n",
       "      <td>0</td>\n",
       "      <td>0</td>\n",
       "      <td>...</td>\n",
       "      <td>0</td>\n",
       "      <td>0</td>\n",
       "      <td>0</td>\n",
       "      <td>0</td>\n",
       "      <td>0</td>\n",
       "      <td>0</td>\n",
       "      <td>0</td>\n",
       "      <td>0</td>\n",
       "      <td>0</td>\n",
       "      <td>Alphabet-P</td>\n",
       "    </tr>\n",
       "    <tr>\n",
       "      <th>5</th>\n",
       "      <td>989_jpg.rf.0083ae042bd9056c29948df39929b6d2.jpg</td>\n",
       "      <td>0</td>\n",
       "      <td>1</td>\n",
       "      <td>0</td>\n",
       "      <td>0</td>\n",
       "      <td>0</td>\n",
       "      <td>0</td>\n",
       "      <td>0</td>\n",
       "      <td>0</td>\n",
       "      <td>0</td>\n",
       "      <td>...</td>\n",
       "      <td>0</td>\n",
       "      <td>0</td>\n",
       "      <td>0</td>\n",
       "      <td>0</td>\n",
       "      <td>0</td>\n",
       "      <td>0</td>\n",
       "      <td>0</td>\n",
       "      <td>0</td>\n",
       "      <td>0</td>\n",
       "      <td>Alphabet-B</td>\n",
       "    </tr>\n",
       "    <tr>\n",
       "      <th>7</th>\n",
       "      <td>1190_jpg.rf.031015b90bbb3ef3f78768bdadc2a2b2.jpg</td>\n",
       "      <td>0</td>\n",
       "      <td>0</td>\n",
       "      <td>0</td>\n",
       "      <td>0</td>\n",
       "      <td>0</td>\n",
       "      <td>0</td>\n",
       "      <td>0</td>\n",
       "      <td>0</td>\n",
       "      <td>0</td>\n",
       "      <td>...</td>\n",
       "      <td>0</td>\n",
       "      <td>0</td>\n",
       "      <td>0</td>\n",
       "      <td>0</td>\n",
       "      <td>0</td>\n",
       "      <td>0</td>\n",
       "      <td>0</td>\n",
       "      <td>0</td>\n",
       "      <td>0</td>\n",
       "      <td>Alphabet-V</td>\n",
       "    </tr>\n",
       "  </tbody>\n",
       "</table>\n",
       "<p>5 rows × 37 columns</p>\n",
       "</div>"
      ],
      "text/plain": [
       "                                           filename   Alphabet-A   Alphabet-B  \\\n",
       "0  1150_jpg.rf.00bc375275d4ead3f5e898b56d50f69f.jpg            0            0   \n",
       "3   518_jpg.rf.034742535312128d301bf3248c430c8e.jpg            0            0   \n",
       "4   314_jpg.rf.007b6fc65dc29625f60ce63cfda19021.jpg            0            0   \n",
       "5   989_jpg.rf.0083ae042bd9056c29948df39929b6d2.jpg            0            1   \n",
       "7  1190_jpg.rf.031015b90bbb3ef3f78768bdadc2a2b2.jpg            0            0   \n",
       "\n",
       "    Alphabet-C   Alphabet-D   Alphabet-E   Alphabet-F   Alphabet-H  \\\n",
       "0            0            0            0            0            0   \n",
       "3            0            0            0            0            0   \n",
       "4            0            0            0            0            0   \n",
       "5            0            0            0            0            0   \n",
       "7            0            0            0            0            0   \n",
       "\n",
       "    Alphabet-I   Alphabet-J  ...   Numeric-1   Numeric-2   Numeric-3  \\\n",
       "0            0            0  ...           0           0           0   \n",
       "3            0            0  ...           0           0           0   \n",
       "4            0            0  ...           0           0           0   \n",
       "5            0            0  ...           0           0           0   \n",
       "7            0            0  ...           0           0           0   \n",
       "\n",
       "    Numeric-4   Numeric-5   Numeric-6   Numeric-7   Numeric-8   Numeric-9  \\\n",
       "0           0           0           0           0           0           0   \n",
       "3           0           0           0           0           0           0   \n",
       "4           0           0           0           0           0           0   \n",
       "5           0           0           0           0           0           0   \n",
       "7           0           0           0           0           0           0   \n",
       "\n",
       "   label_column  \n",
       "0    Alphabet-g  \n",
       "3    Alphabet-R  \n",
       "4    Alphabet-P  \n",
       "5    Alphabet-B  \n",
       "7    Alphabet-V  \n",
       "\n",
       "[5 rows x 37 columns]"
      ]
     },
     "execution_count": 7,
     "metadata": {},
     "output_type": "execute_result"
    }
   ],
   "source": [
    "test_labels_df[:5]"
   ]
  },
  {
   "cell_type": "code",
   "execution_count": 9,
   "metadata": {
    "executionInfo": {
     "elapsed": 4,
     "status": "aborted",
     "timestamp": 1702328118050,
     "user": {
      "displayName": "Kunjan Vaghela",
      "userId": "07564681710207928793"
     },
     "user_tz": 300
    },
    "id": "2r2RYxx__3Wf"
   },
   "outputs": [
    {
     "name": "stderr",
     "output_type": "stream",
     "text": [
      "2023-12-13 21:00:39.958845: I tensorflow/core/common_runtime/process_util.cc:146] Creating new thread pool with default inter op setting: 2. Tune using inter_op_parallelism_threads for best performance.\n"
     ]
    },
    {
     "name": "stdout",
     "output_type": "stream",
     "text": [
      "Epoch 1/25\n"
     ]
    },
    {
     "name": "stderr",
     "output_type": "stream",
     "text": [
      "2023-12-13 21:00:40.438095: I tensorflow/core/common_runtime/executor.cc:1197] [/device:CPU:0] (DEBUG INFO) Executor start aborting (this does not indicate an error and you can ignore this message): INVALID_ARGUMENT: You must feed a value for placeholder tensor 'Placeholder/_0' with dtype int32\n",
      "\t [[{{node Placeholder/_0}}]]\n"
     ]
    },
    {
     "name": "stdout",
     "output_type": "stream",
     "text": [
      "428/428 [==============================] - ETA: 0s - loss: 3.0061 - accuracy: 0.1506"
     ]
    },
    {
     "name": "stderr",
     "output_type": "stream",
     "text": [
      "2023-12-13 21:03:33.794668: I tensorflow/core/common_runtime/executor.cc:1197] [/device:CPU:0] (DEBUG INFO) Executor start aborting (this does not indicate an error and you can ignore this message): INVALID_ARGUMENT: You must feed a value for placeholder tensor 'Placeholder/_0' with dtype int32\n",
      "\t [[{{node Placeholder/_0}}]]\n"
     ]
    },
    {
     "name": "stdout",
     "output_type": "stream",
     "text": [
      "428/428 [==============================] - 189s 439ms/step - loss: 3.0061 - accuracy: 0.1506 - val_loss: 2.6412 - val_accuracy: 0.2690\n",
      "Epoch 2/25\n",
      "428/428 [==============================] - 181s 423ms/step - loss: 2.0724 - accuracy: 0.4135 - val_loss: 1.7128 - val_accuracy: 0.4814\n",
      "Epoch 3/25\n",
      "428/428 [==============================] - 181s 423ms/step - loss: 1.1573 - accuracy: 0.6596 - val_loss: 0.8299 - val_accuracy: 0.7723\n",
      "Epoch 4/25\n",
      "428/428 [==============================] - 180s 421ms/step - loss: 0.5587 - accuracy: 0.8397 - val_loss: 0.4632 - val_accuracy: 0.8755\n",
      "Epoch 5/25\n",
      "428/428 [==============================] - 182s 424ms/step - loss: 0.2819 - accuracy: 0.9237 - val_loss: 0.2693 - val_accuracy: 0.9314\n",
      "Epoch 6/25\n",
      "428/428 [==============================] - 180s 422ms/step - loss: 0.1722 - accuracy: 0.9529 - val_loss: 0.2275 - val_accuracy: 0.9461\n",
      "Epoch 7/25\n",
      "428/428 [==============================] - 179s 418ms/step - loss: 0.1171 - accuracy: 0.9708 - val_loss: 0.1769 - val_accuracy: 0.9660\n",
      "Epoch 8/25\n",
      "428/428 [==============================] - 178s 416ms/step - loss: 0.0914 - accuracy: 0.9760 - val_loss: 0.2007 - val_accuracy: 0.9587\n",
      "Epoch 9/25\n",
      "428/428 [==============================] - 189s 442ms/step - loss: 0.0745 - accuracy: 0.9801 - val_loss: 0.1228 - val_accuracy: 0.9807\n",
      "Epoch 10/25\n",
      "428/428 [==============================] - 179s 419ms/step - loss: 0.0617 - accuracy: 0.9841 - val_loss: 0.1118 - val_accuracy: 0.9814\n",
      "Epoch 11/25\n",
      "428/428 [==============================] - 179s 418ms/step - loss: 0.0581 - accuracy: 0.9854 - val_loss: 0.1230 - val_accuracy: 0.9814\n",
      "Epoch 12/25\n",
      "428/428 [==============================] - 184s 429ms/step - loss: 0.0510 - accuracy: 0.9871 - val_loss: 0.0934 - val_accuracy: 0.9827\n",
      "Epoch 13/25\n",
      "428/428 [==============================] - 185s 433ms/step - loss: 0.0388 - accuracy: 0.9898 - val_loss: 0.1165 - val_accuracy: 0.9840\n",
      "Epoch 14/25\n",
      "428/428 [==============================] - 178s 416ms/step - loss: 0.0314 - accuracy: 0.9920 - val_loss: 0.1175 - val_accuracy: 0.9834\n",
      "Epoch 15/25\n",
      "428/428 [==============================] - 179s 419ms/step - loss: 0.0328 - accuracy: 0.9913 - val_loss: 0.1001 - val_accuracy: 0.9834\n",
      "Epoch 16/25\n",
      "428/428 [==============================] - 182s 425ms/step - loss: 0.0272 - accuracy: 0.9929 - val_loss: 0.0963 - val_accuracy: 0.9840\n",
      "Epoch 17/25\n",
      "428/428 [==============================] - 182s 424ms/step - loss: 0.0264 - accuracy: 0.9953 - val_loss: 0.0942 - val_accuracy: 0.9893\n",
      "Epoch 18/25\n",
      "428/428 [==============================] - 178s 416ms/step - loss: 0.0247 - accuracy: 0.9936 - val_loss: 0.0975 - val_accuracy: 0.9854\n",
      "Epoch 19/25\n",
      "428/428 [==============================] - 180s 421ms/step - loss: 0.0266 - accuracy: 0.9931 - val_loss: 0.1021 - val_accuracy: 0.9880\n",
      "Epoch 20/25\n",
      "428/428 [==============================] - 178s 415ms/step - loss: 0.0213 - accuracy: 0.9952 - val_loss: 0.0836 - val_accuracy: 0.9887\n",
      "Epoch 21/25\n",
      "428/428 [==============================] - 179s 418ms/step - loss: 0.0204 - accuracy: 0.9947 - val_loss: 0.0957 - val_accuracy: 0.9893\n",
      "Epoch 22/25\n",
      "428/428 [==============================] - 179s 418ms/step - loss: 0.0204 - accuracy: 0.9951 - val_loss: 0.0966 - val_accuracy: 0.9893\n",
      "Epoch 23/25\n",
      "428/428 [==============================] - 180s 419ms/step - loss: 0.0189 - accuracy: 0.9958 - val_loss: 0.0935 - val_accuracy: 0.9920\n",
      "Epoch 24/25\n",
      "428/428 [==============================] - 180s 421ms/step - loss: 0.0171 - accuracy: 0.9957 - val_loss: 0.1215 - val_accuracy: 0.9827\n",
      "Epoch 25/25\n",
      "428/428 [==============================] - 178s 417ms/step - loss: 0.0172 - accuracy: 0.9963 - val_loss: 0.0978 - val_accuracy: 0.9874\n"
     ]
    }
   ],
   "source": [
    "# CNN Model\n",
    "classifier = Sequential()\n",
    "\n",
    "# First layer\n",
    "classifier.add(Convolution2D(32, (3, 3), input_shape = (64, 64, 3), activation = 'relu'))\n",
    "classifier.add(MaxPooling2D(pool_size = (2, 2)))\n",
    "\n",
    "# Second layer\n",
    "classifier.add(Convolution2D(64, (3, 3), activation = 'relu'))\n",
    "classifier.add(MaxPooling2D(pool_size = (2, 2)))\n",
    "\n",
    "# Third layer\n",
    "classifier.add(Convolution2D(128, (3, 3), activation = 'relu'))\n",
    "classifier.add(MaxPooling2D(pool_size = (2, 2)))\n",
    "\n",
    "# Flattening\n",
    "classifier.add(Flatten())\n",
    "\n",
    "# Classification\n",
    "classifier.add(Dense(256, activation='relu'))\n",
    "classifier.add(Dense(26, activation='softmax'))\n",
    "\n",
    "# Run the CNN model\n",
    "classifier.compile(loss='categorical_crossentropy',\n",
    "              optimizer='sgd',\n",
    "              metrics=['accuracy'])\n",
    "\n",
    "model = classifier.fit(\n",
    "        data_generator,\n",
    "        epochs=25,\n",
    "        validation_data = valid_generator,\n",
    "      )"
   ]
  },
  {
   "cell_type": "code",
   "execution_count": 10,
   "metadata": {
    "executionInfo": {
     "elapsed": 4,
     "status": "aborted",
     "timestamp": 1702328118050,
     "user": {
      "displayName": "Kunjan Vaghela",
      "userId": "07564681710207928793"
     },
     "user_tz": 300
    },
    "id": "DbiQelt19psl"
   },
   "outputs": [],
   "source": [
    "classifier.save(\"isl_classifier_26_classes_KV_2.h5\")"
   ]
  }
 ],
 "metadata": {
  "accelerator": "GPU",
  "colab": {
   "gpuType": "T4",
   "provenance": [
    {
     "file_id": "1RdX4qGWiXWEyl3SqC1j0p7kkK1yap8l-",
     "timestamp": 1702327883374
    }
   ]
  },
  "kernelspec": {
   "display_name": "ml_env_tf",
   "language": "python",
   "name": "ml_env_tf"
  },
  "language_info": {
   "codemirror_mode": {
    "name": "ipython",
    "version": 3
   },
   "file_extension": ".py",
   "mimetype": "text/x-python",
   "name": "python",
   "nbconvert_exporter": "python",
   "pygments_lexer": "ipython3",
   "version": "3.11.5"
  }
 },
 "nbformat": 4,
 "nbformat_minor": 1
}
