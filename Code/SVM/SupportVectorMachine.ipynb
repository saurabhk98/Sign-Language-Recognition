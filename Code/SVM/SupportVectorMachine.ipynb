{
 "cells": [
  {
   "cell_type": "markdown",
   "metadata": {
    "id": "MUDVGbPjBtFx"
   },
   "source": [
    "# Support Vector Machine for American Sign Language Recognition.\n"
   ]
  },
  {
   "cell_type": "markdown",
   "metadata": {
    "id": "zW1hC9kW0WWt"
   },
   "source": [
    "## STEP 1: Import all the dependencies and Load data"
   ]
  },
  {
   "cell_type": "code",
   "execution_count": 1,
   "metadata": {
    "id": "FJONe1owNPaB"
   },
   "outputs": [],
   "source": [
    "import numpy as np\n",
    "import pandas as pd\n",
    "from sklearn.model_selection import train_test_split\n",
    "from sklearn.svm import SVC\n",
    "from sklearn.metrics import confusion_matrix\n",
    "from sklearn.model_selection import validation_curve\n",
    "from sklearn.model_selection import KFold\n",
    "from sklearn.model_selection import cross_val_score\n",
    "from sklearn.model_selection import GridSearchCV\n",
    "import matplotlib.pyplot as plt\n",
    "import seaborn as sns\n",
    "from sklearn.metrics import accuracy_score, precision_recall_fscore_support"
   ]
  },
  {
   "cell_type": "code",
   "execution_count": 24,
   "metadata": {
    "colab": {
     "base_uri": "https://localhost:8080/"
    },
    "id": "wJd4aX7M4ULu",
    "outputId": "b13e85f3-c073-44dc-cd06-8eac1c2bc8c4"
   },
   "outputs": [
    {
     "name": "stdout",
     "output_type": "stream",
     "text": [
      "Mounted at /content/gdrive\n"
     ]
    }
   ],
   "source": [
    "from google.colab import drive\n",
    "drive.mount('/content/gdrive')"
   ]
  },
  {
   "cell_type": "code",
   "execution_count": 26,
   "metadata": {
    "id": "DbfgQVskNTKg"
   },
   "outputs": [],
   "source": [
    "train_data = pd.read_csv('/data/sign_mnist_train.csv')\n",
    "test_data = pd.read_csv('/data/sign_mnist_test.csv')"
   ]
  },
  {
   "cell_type": "markdown",
   "metadata": {
    "id": "Ep5rcjVSA4x6"
   },
   "source": [
    "## STEP 2: Data Exploration and Preprocessing\n",
    "### Checking unique labels and statistics"
   ]
  },
  {
   "cell_type": "code",
   "execution_count": 27,
   "metadata": {
    "colab": {
     "base_uri": "https://localhost:8080/"
    },
    "id": "ryU0NuWNOAnl",
    "outputId": "4297ec7d-5ccc-4a91-b5b6-555e6ea10357"
   },
   "outputs": [
    {
     "name": "stdout",
     "output_type": "stream",
     "text": [
      "[0, 1, 2, 3, 4, 5, 6, 7, 8, 10, 11, 12, 13, 14, 15, 16, 17, 18, 19, 20, 21, 22, 23, 24]\n"
     ]
    }
   ],
   "source": [
    "order = list(np.sort(train_data['label'].unique()))\n",
    "print(order)"
   ]
  },
  {
   "cell_type": "code",
   "execution_count": 29,
   "metadata": {
    "colab": {
     "base_uri": "https://localhost:8080/"
    },
    "id": "FozDTD0-OM73",
    "outputId": "1c6b3689-b62e-4d67-c2e0-2dfaac72e2f1"
   },
   "outputs": [
    {
     "data": {
      "text/plain": [
       "pixel1      145.42\n",
       "pixel2      148.50\n",
       "pixel3      151.25\n",
       "pixel4      153.55\n",
       "pixel5      156.21\n",
       "             ...  \n",
       "pixel780    162.74\n",
       "pixel781    162.91\n",
       "pixel782    161.97\n",
       "pixel783    161.14\n",
       "pixel784    159.82\n",
       "Length: 784, dtype: float64"
      ]
     },
     "execution_count": 29,
     "metadata": {},
     "output_type": "execute_result"
    }
   ],
   "source": [
    "round(train_data.drop('label', axis=1).mean(), 2)"
   ]
  },
  {
   "cell_type": "markdown",
   "metadata": {
    "id": "XG6HjI_HBCpn"
   },
   "source": [
    "## STEP 3: Data Preprocessing: Separating X and Y variables, Normalization, and Train-Test Split\n",
    "### Separating X and Y variables"
   ]
  },
  {
   "cell_type": "code",
   "execution_count": 30,
   "metadata": {
    "id": "xOlFhWIJOPRk"
   },
   "outputs": [],
   "source": [
    "y = train_data['label']\n",
    "X = train_data.drop(columns = 'label')\n",
    "\n",
    "## Normalization\n",
    "\n",
    "X = X/255.0\n",
    "test_data = test_data/255.0"
   ]
  },
  {
   "cell_type": "code",
   "execution_count": 31,
   "metadata": {
    "id": "MimIScH1ORep"
   },
   "outputs": [],
   "source": [
    "from sklearn.preprocessing import scale\n",
    "X_scaled = scale(X)\n",
    "\n",
    "# train test split\n",
    "X_train, X_test, y_train, y_test = train_test_split(X_scaled, y, test_size = 0.3, train_size = 0.2 ,random_state = 10)"
   ]
  },
  {
   "cell_type": "markdown",
   "metadata": {
    "id": "U2w3yXjnBLiH"
   },
   "source": [
    "## STEP 4: Linear Model Training and Evaluation\n",
    "### Model training - Linear SVM"
   ]
  },
  {
   "cell_type": "code",
   "execution_count": 32,
   "metadata": {
    "id": "gpgK3RbXOUi1"
   },
   "outputs": [],
   "source": [
    "# linear model\n",
    "\n",
    "model_linear = SVC(kernel='linear')\n",
    "model_linear.fit(X_train, y_train)\n",
    "\n",
    "# predict\n",
    "y_pred = model_linear.predict(X_test)"
   ]
  },
  {
   "cell_type": "code",
   "execution_count": 33,
   "metadata": {
    "colab": {
     "base_uri": "https://localhost:8080/"
    },
    "id": "wgmMPfWdOWxi",
    "outputId": "ccd3dea6-4573-42fd-aed4-267bcea10587"
   },
   "outputs": [
    {
     "name": "stdout",
     "output_type": "stream",
     "text": [
      "accuracy: 0.9979361417991988 \n",
      "\n",
      "Precision: 0.9979856315925464\n",
      "Recall: 0.9979361417991988\n",
      "F-score: 0.9979353028586274\n"
     ]
    }
   ],
   "source": [
    "from sklearn import metrics\n",
    "from sklearn.metrics import confusion_matrix\n",
    "# accuracy\n",
    "print(\"accuracy:\", metrics.accuracy_score(y_true=y_test, y_pred=y_pred), \"\\n\")\n",
    "\n",
    "# Calculate precision, recall, f-score, and support\n",
    "p, r, f, s = precision_recall_fscore_support(y_test, y_pred, average='weighted')\n",
    "print(\"Precision:\", p)\n",
    "print(\"Recall:\", r)\n",
    "print(\"F-score:\", f)"
   ]
  },
  {
   "cell_type": "markdown",
   "metadata": {
    "id": "1VwCAIJlBQ0Q"
   },
   "source": [
    "## STEP 5: Non-linear Model Training and Evaluation (RBF Kernel)\n",
    "### Model training - Non-linear SVM (RBF Kernel)"
   ]
  },
  {
   "cell_type": "code",
   "execution_count": 35,
   "metadata": {
    "id": "dQUUwvySOY1S"
   },
   "outputs": [],
   "source": [
    "# non-linear model\n",
    "# using rbf kernel, C=1, default value of gamma\n",
    "\n",
    "# model\n",
    "non_linear_model = SVC(kernel='rbf')\n",
    "\n",
    "# fit\n",
    "non_linear_model.fit(X_train, y_train)\n",
    "\n",
    "# predict\n",
    "y_pred = non_linear_model.predict(X_test)"
   ]
  },
  {
   "cell_type": "code",
   "execution_count": 36,
   "metadata": {
    "colab": {
     "base_uri": "https://localhost:8080/"
    },
    "id": "hVf6Ts9QObQK",
    "outputId": "ff9a63b4-239f-4acc-96c8-01fa3106d58f"
   },
   "outputs": [
    {
     "name": "stdout",
     "output_type": "stream",
     "text": [
      "accuracy: 0.9732912468131601 \n",
      "\n",
      "Precision: 0.9735947290006027\n",
      "Recall: 0.9732912468131601\n",
      "F-score: 0.9733090282954927\n"
     ]
    }
   ],
   "source": [
    "# confusion matrix and accuracy\n",
    "\n",
    "# accuracy\n",
    "print(\"accuracy:\", metrics.accuracy_score(y_true=y_test, y_pred=y_pred), \"\\n\")\n",
    "\n",
    "p, r, f, s = precision_recall_fscore_support(y_test, y_pred, average='weighted')\n",
    "print(\"Precision:\", p)\n",
    "print(\"Recall:\", r)\n",
    "print(\"F-score:\", f)"
   ]
  },
  {
   "cell_type": "markdown",
   "metadata": {
    "id": "8R55baNKBV0J"
   },
   "source": [
    "## STEP 6: Hyperparameter Tuning using Grid Search Cross-Validation"
   ]
  },
  {
   "cell_type": "code",
   "execution_count": 37,
   "metadata": {
    "id": "XyMQzb2GOfsB"
   },
   "outputs": [],
   "source": [
    "# creating a KFold object with 5 splits\n",
    "folds = KFold(n_splits = 5, shuffle = True, random_state = 10)"
   ]
  },
  {
   "cell_type": "code",
   "execution_count": 38,
   "metadata": {
    "id": "dV1uQQbhOqU5"
   },
   "outputs": [],
   "source": [
    "\n",
    "# specify range of hyperparameters\n",
    "# Set the parameters by cross-validation\n",
    "hyper_params = [ {'gamma': [1e-2, 1e-3, 1e-4],\n",
    "                     'C': [5,10]}]"
   ]
  },
  {
   "cell_type": "code",
   "execution_count": 39,
   "metadata": {
    "id": "ghA6h-E6Or1y"
   },
   "outputs": [],
   "source": [
    "# specify model\n",
    "model = SVC(kernel=\"linear\")"
   ]
  },
  {
   "cell_type": "code",
   "execution_count": 40,
   "metadata": {
    "id": "-W7V8vOVOtgB"
   },
   "outputs": [],
   "source": [
    "# set up GridSearchCV()\n",
    "model_cv = GridSearchCV(estimator = model,\n",
    "                        param_grid = hyper_params,\n",
    "                        scoring= 'accuracy',\n",
    "                        cv = folds,\n",
    "                        verbose = 1,\n",
    "                        return_train_score=True)"
   ]
  },
  {
   "cell_type": "code",
   "execution_count": 41,
   "metadata": {
    "colab": {
     "base_uri": "https://localhost:8080/",
     "height": 136
    },
    "id": "LO9IY5LaOvT6",
    "outputId": "106fd029-2052-446c-b45a-602e01961205"
   },
   "outputs": [
    {
     "name": "stdout",
     "output_type": "stream",
     "text": [
      "Fitting 5 folds for each of 6 candidates, totalling 30 fits\n"
     ]
    },
    {
     "data": {
      "text/html": [
       "<style>#sk-container-id-2 {color: black;background-color: white;}#sk-container-id-2 pre{padding: 0;}#sk-container-id-2 div.sk-toggleable {background-color: white;}#sk-container-id-2 label.sk-toggleable__label {cursor: pointer;display: block;width: 100%;margin-bottom: 0;padding: 0.3em;box-sizing: border-box;text-align: center;}#sk-container-id-2 label.sk-toggleable__label-arrow:before {content: \"▸\";float: left;margin-right: 0.25em;color: #696969;}#sk-container-id-2 label.sk-toggleable__label-arrow:hover:before {color: black;}#sk-container-id-2 div.sk-estimator:hover label.sk-toggleable__label-arrow:before {color: black;}#sk-container-id-2 div.sk-toggleable__content {max-height: 0;max-width: 0;overflow: hidden;text-align: left;background-color: #f0f8ff;}#sk-container-id-2 div.sk-toggleable__content pre {margin: 0.2em;color: black;border-radius: 0.25em;background-color: #f0f8ff;}#sk-container-id-2 input.sk-toggleable__control:checked~div.sk-toggleable__content {max-height: 200px;max-width: 100%;overflow: auto;}#sk-container-id-2 input.sk-toggleable__control:checked~label.sk-toggleable__label-arrow:before {content: \"▾\";}#sk-container-id-2 div.sk-estimator input.sk-toggleable__control:checked~label.sk-toggleable__label {background-color: #d4ebff;}#sk-container-id-2 div.sk-label input.sk-toggleable__control:checked~label.sk-toggleable__label {background-color: #d4ebff;}#sk-container-id-2 input.sk-hidden--visually {border: 0;clip: rect(1px 1px 1px 1px);clip: rect(1px, 1px, 1px, 1px);height: 1px;margin: -1px;overflow: hidden;padding: 0;position: absolute;width: 1px;}#sk-container-id-2 div.sk-estimator {font-family: monospace;background-color: #f0f8ff;border: 1px dotted black;border-radius: 0.25em;box-sizing: border-box;margin-bottom: 0.5em;}#sk-container-id-2 div.sk-estimator:hover {background-color: #d4ebff;}#sk-container-id-2 div.sk-parallel-item::after {content: \"\";width: 100%;border-bottom: 1px solid gray;flex-grow: 1;}#sk-container-id-2 div.sk-label:hover label.sk-toggleable__label {background-color: #d4ebff;}#sk-container-id-2 div.sk-serial::before {content: \"\";position: absolute;border-left: 1px solid gray;box-sizing: border-box;top: 0;bottom: 0;left: 50%;z-index: 0;}#sk-container-id-2 div.sk-serial {display: flex;flex-direction: column;align-items: center;background-color: white;padding-right: 0.2em;padding-left: 0.2em;position: relative;}#sk-container-id-2 div.sk-item {position: relative;z-index: 1;}#sk-container-id-2 div.sk-parallel {display: flex;align-items: stretch;justify-content: center;background-color: white;position: relative;}#sk-container-id-2 div.sk-item::before, #sk-container-id-2 div.sk-parallel-item::before {content: \"\";position: absolute;border-left: 1px solid gray;box-sizing: border-box;top: 0;bottom: 0;left: 50%;z-index: -1;}#sk-container-id-2 div.sk-parallel-item {display: flex;flex-direction: column;z-index: 1;position: relative;background-color: white;}#sk-container-id-2 div.sk-parallel-item:first-child::after {align-self: flex-end;width: 50%;}#sk-container-id-2 div.sk-parallel-item:last-child::after {align-self: flex-start;width: 50%;}#sk-container-id-2 div.sk-parallel-item:only-child::after {width: 0;}#sk-container-id-2 div.sk-dashed-wrapped {border: 1px dashed gray;margin: 0 0.4em 0.5em 0.4em;box-sizing: border-box;padding-bottom: 0.4em;background-color: white;}#sk-container-id-2 div.sk-label label {font-family: monospace;font-weight: bold;display: inline-block;line-height: 1.2em;}#sk-container-id-2 div.sk-label-container {text-align: center;}#sk-container-id-2 div.sk-container {/* jupyter's `normalize.less` sets `[hidden] { display: none; }` but bootstrap.min.css set `[hidden] { display: none !important; }` so we also need the `!important` here to be able to override the default hidden behavior on the sphinx rendered scikit-learn.org. See: https://github.com/scikit-learn/scikit-learn/issues/21755 */display: inline-block !important;position: relative;}#sk-container-id-2 div.sk-text-repr-fallback {display: none;}</style><div id=\"sk-container-id-2\" class=\"sk-top-container\"><div class=\"sk-text-repr-fallback\"><pre>GridSearchCV(cv=KFold(n_splits=5, random_state=10, shuffle=True),\n",
       "             estimator=SVC(kernel=&#x27;linear&#x27;),\n",
       "             param_grid=[{&#x27;C&#x27;: [5, 10], &#x27;gamma&#x27;: [0.01, 0.001, 0.0001]}],\n",
       "             return_train_score=True, scoring=&#x27;accuracy&#x27;, verbose=1)</pre><b>In a Jupyter environment, please rerun this cell to show the HTML representation or trust the notebook. <br />On GitHub, the HTML representation is unable to render, please try loading this page with nbviewer.org.</b></div><div class=\"sk-container\" hidden><div class=\"sk-item sk-dashed-wrapped\"><div class=\"sk-label-container\"><div class=\"sk-label sk-toggleable\"><input class=\"sk-toggleable__control sk-hidden--visually\" id=\"sk-estimator-id-4\" type=\"checkbox\" ><label for=\"sk-estimator-id-4\" class=\"sk-toggleable__label sk-toggleable__label-arrow\">GridSearchCV</label><div class=\"sk-toggleable__content\"><pre>GridSearchCV(cv=KFold(n_splits=5, random_state=10, shuffle=True),\n",
       "             estimator=SVC(kernel=&#x27;linear&#x27;),\n",
       "             param_grid=[{&#x27;C&#x27;: [5, 10], &#x27;gamma&#x27;: [0.01, 0.001, 0.0001]}],\n",
       "             return_train_score=True, scoring=&#x27;accuracy&#x27;, verbose=1)</pre></div></div></div><div class=\"sk-parallel\"><div class=\"sk-parallel-item\"><div class=\"sk-item\"><div class=\"sk-label-container\"><div class=\"sk-label sk-toggleable\"><input class=\"sk-toggleable__control sk-hidden--visually\" id=\"sk-estimator-id-5\" type=\"checkbox\" ><label for=\"sk-estimator-id-5\" class=\"sk-toggleable__label sk-toggleable__label-arrow\">estimator: SVC</label><div class=\"sk-toggleable__content\"><pre>SVC(kernel=&#x27;linear&#x27;)</pre></div></div></div><div class=\"sk-serial\"><div class=\"sk-item\"><div class=\"sk-estimator sk-toggleable\"><input class=\"sk-toggleable__control sk-hidden--visually\" id=\"sk-estimator-id-6\" type=\"checkbox\" ><label for=\"sk-estimator-id-6\" class=\"sk-toggleable__label sk-toggleable__label-arrow\">SVC</label><div class=\"sk-toggleable__content\"><pre>SVC(kernel=&#x27;linear&#x27;)</pre></div></div></div></div></div></div></div></div></div></div>"
      ],
      "text/plain": [
       "GridSearchCV(cv=KFold(n_splits=5, random_state=10, shuffle=True),\n",
       "             estimator=SVC(kernel='linear'),\n",
       "             param_grid=[{'C': [5, 10], 'gamma': [0.01, 0.001, 0.0001]}],\n",
       "             return_train_score=True, scoring='accuracy', verbose=1)"
      ]
     },
     "execution_count": 41,
     "metadata": {},
     "output_type": "execute_result"
    }
   ],
   "source": [
    "# fit the model\n",
    "model_cv.fit(X_train, y_train)"
   ]
  },
  {
   "cell_type": "code",
   "execution_count": 42,
   "metadata": {
    "colab": {
     "base_uri": "https://localhost:8080/",
     "height": 495
    },
    "id": "42R7IXIvOxzU",
    "outputId": "9f27327e-c2ba-4137-ea5c-be2d88826a39"
   },
   "outputs": [
    {
     "data": {
      "text/html": [
       "\n",
       "  <div id=\"df-45ad1776-58eb-48fa-8f9b-06f1af322251\" class=\"colab-df-container\">\n",
       "    <div>\n",
       "<style scoped>\n",
       "    .dataframe tbody tr th:only-of-type {\n",
       "        vertical-align: middle;\n",
       "    }\n",
       "\n",
       "    .dataframe tbody tr th {\n",
       "        vertical-align: top;\n",
       "    }\n",
       "\n",
       "    .dataframe thead th {\n",
       "        text-align: right;\n",
       "    }\n",
       "</style>\n",
       "<table border=\"1\" class=\"dataframe\">\n",
       "  <thead>\n",
       "    <tr style=\"text-align: right;\">\n",
       "      <th></th>\n",
       "      <th>mean_fit_time</th>\n",
       "      <th>std_fit_time</th>\n",
       "      <th>mean_score_time</th>\n",
       "      <th>std_score_time</th>\n",
       "      <th>param_C</th>\n",
       "      <th>param_gamma</th>\n",
       "      <th>params</th>\n",
       "      <th>split0_test_score</th>\n",
       "      <th>split1_test_score</th>\n",
       "      <th>split2_test_score</th>\n",
       "      <th>...</th>\n",
       "      <th>mean_test_score</th>\n",
       "      <th>std_test_score</th>\n",
       "      <th>rank_test_score</th>\n",
       "      <th>split0_train_score</th>\n",
       "      <th>split1_train_score</th>\n",
       "      <th>split2_train_score</th>\n",
       "      <th>split3_train_score</th>\n",
       "      <th>split4_train_score</th>\n",
       "      <th>mean_train_score</th>\n",
       "      <th>std_train_score</th>\n",
       "    </tr>\n",
       "  </thead>\n",
       "  <tbody>\n",
       "    <tr>\n",
       "      <th>0</th>\n",
       "      <td>2.553694</td>\n",
       "      <td>0.276207</td>\n",
       "      <td>0.690253</td>\n",
       "      <td>0.065445</td>\n",
       "      <td>5</td>\n",
       "      <td>0.01</td>\n",
       "      <td>{'C': 5, 'gamma': 0.01}</td>\n",
       "      <td>0.992721</td>\n",
       "      <td>0.992714</td>\n",
       "      <td>0.993625</td>\n",
       "      <td>...</td>\n",
       "      <td>0.99399</td>\n",
       "      <td>0.001688</td>\n",
       "      <td>1</td>\n",
       "      <td>1.0</td>\n",
       "      <td>1.0</td>\n",
       "      <td>1.0</td>\n",
       "      <td>1.0</td>\n",
       "      <td>1.0</td>\n",
       "      <td>1.0</td>\n",
       "      <td>0.0</td>\n",
       "    </tr>\n",
       "    <tr>\n",
       "      <th>1</th>\n",
       "      <td>2.561911</td>\n",
       "      <td>0.246921</td>\n",
       "      <td>0.768502</td>\n",
       "      <td>0.120962</td>\n",
       "      <td>5</td>\n",
       "      <td>0.001</td>\n",
       "      <td>{'C': 5, 'gamma': 0.001}</td>\n",
       "      <td>0.992721</td>\n",
       "      <td>0.992714</td>\n",
       "      <td>0.993625</td>\n",
       "      <td>...</td>\n",
       "      <td>0.99399</td>\n",
       "      <td>0.001688</td>\n",
       "      <td>1</td>\n",
       "      <td>1.0</td>\n",
       "      <td>1.0</td>\n",
       "      <td>1.0</td>\n",
       "      <td>1.0</td>\n",
       "      <td>1.0</td>\n",
       "      <td>1.0</td>\n",
       "      <td>0.0</td>\n",
       "    </tr>\n",
       "    <tr>\n",
       "      <th>2</th>\n",
       "      <td>3.272647</td>\n",
       "      <td>0.699623</td>\n",
       "      <td>1.087060</td>\n",
       "      <td>0.598227</td>\n",
       "      <td>5</td>\n",
       "      <td>0.0001</td>\n",
       "      <td>{'C': 5, 'gamma': 0.0001}</td>\n",
       "      <td>0.992721</td>\n",
       "      <td>0.992714</td>\n",
       "      <td>0.993625</td>\n",
       "      <td>...</td>\n",
       "      <td>0.99399</td>\n",
       "      <td>0.001688</td>\n",
       "      <td>1</td>\n",
       "      <td>1.0</td>\n",
       "      <td>1.0</td>\n",
       "      <td>1.0</td>\n",
       "      <td>1.0</td>\n",
       "      <td>1.0</td>\n",
       "      <td>1.0</td>\n",
       "      <td>0.0</td>\n",
       "    </tr>\n",
       "    <tr>\n",
       "      <th>3</th>\n",
       "      <td>2.575888</td>\n",
       "      <td>0.279869</td>\n",
       "      <td>0.710398</td>\n",
       "      <td>0.035141</td>\n",
       "      <td>10</td>\n",
       "      <td>0.01</td>\n",
       "      <td>{'C': 10, 'gamma': 0.01}</td>\n",
       "      <td>0.992721</td>\n",
       "      <td>0.992714</td>\n",
       "      <td>0.993625</td>\n",
       "      <td>...</td>\n",
       "      <td>0.99399</td>\n",
       "      <td>0.001688</td>\n",
       "      <td>1</td>\n",
       "      <td>1.0</td>\n",
       "      <td>1.0</td>\n",
       "      <td>1.0</td>\n",
       "      <td>1.0</td>\n",
       "      <td>1.0</td>\n",
       "      <td>1.0</td>\n",
       "      <td>0.0</td>\n",
       "    </tr>\n",
       "    <tr>\n",
       "      <th>4</th>\n",
       "      <td>2.718134</td>\n",
       "      <td>0.247010</td>\n",
       "      <td>0.727607</td>\n",
       "      <td>0.061382</td>\n",
       "      <td>10</td>\n",
       "      <td>0.001</td>\n",
       "      <td>{'C': 10, 'gamma': 0.001}</td>\n",
       "      <td>0.992721</td>\n",
       "      <td>0.992714</td>\n",
       "      <td>0.993625</td>\n",
       "      <td>...</td>\n",
       "      <td>0.99399</td>\n",
       "      <td>0.001688</td>\n",
       "      <td>1</td>\n",
       "      <td>1.0</td>\n",
       "      <td>1.0</td>\n",
       "      <td>1.0</td>\n",
       "      <td>1.0</td>\n",
       "      <td>1.0</td>\n",
       "      <td>1.0</td>\n",
       "      <td>0.0</td>\n",
       "    </tr>\n",
       "    <tr>\n",
       "      <th>5</th>\n",
       "      <td>2.663212</td>\n",
       "      <td>0.267562</td>\n",
       "      <td>1.034805</td>\n",
       "      <td>0.475278</td>\n",
       "      <td>10</td>\n",
       "      <td>0.0001</td>\n",
       "      <td>{'C': 10, 'gamma': 0.0001}</td>\n",
       "      <td>0.992721</td>\n",
       "      <td>0.992714</td>\n",
       "      <td>0.993625</td>\n",
       "      <td>...</td>\n",
       "      <td>0.99399</td>\n",
       "      <td>0.001688</td>\n",
       "      <td>1</td>\n",
       "      <td>1.0</td>\n",
       "      <td>1.0</td>\n",
       "      <td>1.0</td>\n",
       "      <td>1.0</td>\n",
       "      <td>1.0</td>\n",
       "      <td>1.0</td>\n",
       "      <td>0.0</td>\n",
       "    </tr>\n",
       "  </tbody>\n",
       "</table>\n",
       "<p>6 rows × 22 columns</p>\n",
       "</div>\n",
       "    <div class=\"colab-df-buttons\">\n",
       "\n",
       "  <div class=\"colab-df-container\">\n",
       "    <button class=\"colab-df-convert\" onclick=\"convertToInteractive('df-45ad1776-58eb-48fa-8f9b-06f1af322251')\"\n",
       "            title=\"Convert this dataframe to an interactive table.\"\n",
       "            style=\"display:none;\">\n",
       "\n",
       "  <svg xmlns=\"http://www.w3.org/2000/svg\" height=\"24px\" viewBox=\"0 -960 960 960\">\n",
       "    <path d=\"M120-120v-720h720v720H120Zm60-500h600v-160H180v160Zm220 220h160v-160H400v160Zm0 220h160v-160H400v160ZM180-400h160v-160H180v160Zm440 0h160v-160H620v160ZM180-180h160v-160H180v160Zm440 0h160v-160H620v160Z\"/>\n",
       "  </svg>\n",
       "    </button>\n",
       "\n",
       "  <style>\n",
       "    .colab-df-container {\n",
       "      display:flex;\n",
       "      gap: 12px;\n",
       "    }\n",
       "\n",
       "    .colab-df-convert {\n",
       "      background-color: #E8F0FE;\n",
       "      border: none;\n",
       "      border-radius: 50%;\n",
       "      cursor: pointer;\n",
       "      display: none;\n",
       "      fill: #1967D2;\n",
       "      height: 32px;\n",
       "      padding: 0 0 0 0;\n",
       "      width: 32px;\n",
       "    }\n",
       "\n",
       "    .colab-df-convert:hover {\n",
       "      background-color: #E2EBFA;\n",
       "      box-shadow: 0px 1px 2px rgba(60, 64, 67, 0.3), 0px 1px 3px 1px rgba(60, 64, 67, 0.15);\n",
       "      fill: #174EA6;\n",
       "    }\n",
       "\n",
       "    .colab-df-buttons div {\n",
       "      margin-bottom: 4px;\n",
       "    }\n",
       "\n",
       "    [theme=dark] .colab-df-convert {\n",
       "      background-color: #3B4455;\n",
       "      fill: #D2E3FC;\n",
       "    }\n",
       "\n",
       "    [theme=dark] .colab-df-convert:hover {\n",
       "      background-color: #434B5C;\n",
       "      box-shadow: 0px 1px 3px 1px rgba(0, 0, 0, 0.15);\n",
       "      filter: drop-shadow(0px 1px 2px rgba(0, 0, 0, 0.3));\n",
       "      fill: #FFFFFF;\n",
       "    }\n",
       "  </style>\n",
       "\n",
       "    <script>\n",
       "      const buttonEl =\n",
       "        document.querySelector('#df-45ad1776-58eb-48fa-8f9b-06f1af322251 button.colab-df-convert');\n",
       "      buttonEl.style.display =\n",
       "        google.colab.kernel.accessAllowed ? 'block' : 'none';\n",
       "\n",
       "      async function convertToInteractive(key) {\n",
       "        const element = document.querySelector('#df-45ad1776-58eb-48fa-8f9b-06f1af322251');\n",
       "        const dataTable =\n",
       "          await google.colab.kernel.invokeFunction('convertToInteractive',\n",
       "                                                    [key], {});\n",
       "        if (!dataTable) return;\n",
       "\n",
       "        const docLinkHtml = 'Like what you see? Visit the ' +\n",
       "          '<a target=\"_blank\" href=https://colab.research.google.com/notebooks/data_table.ipynb>data table notebook</a>'\n",
       "          + ' to learn more about interactive tables.';\n",
       "        element.innerHTML = '';\n",
       "        dataTable['output_type'] = 'display_data';\n",
       "        await google.colab.output.renderOutput(dataTable, element);\n",
       "        const docLink = document.createElement('div');\n",
       "        docLink.innerHTML = docLinkHtml;\n",
       "        element.appendChild(docLink);\n",
       "      }\n",
       "    </script>\n",
       "  </div>\n",
       "\n",
       "\n",
       "<div id=\"df-60c7c99e-f1d9-428d-bbd1-8293b06b4c21\">\n",
       "  <button class=\"colab-df-quickchart\" onclick=\"quickchart('df-60c7c99e-f1d9-428d-bbd1-8293b06b4c21')\"\n",
       "            title=\"Suggest charts\"\n",
       "            style=\"display:none;\">\n",
       "\n",
       "<svg xmlns=\"http://www.w3.org/2000/svg\" height=\"24px\"viewBox=\"0 0 24 24\"\n",
       "     width=\"24px\">\n",
       "    <g>\n",
       "        <path d=\"M19 3H5c-1.1 0-2 .9-2 2v14c0 1.1.9 2 2 2h14c1.1 0 2-.9 2-2V5c0-1.1-.9-2-2-2zM9 17H7v-7h2v7zm4 0h-2V7h2v10zm4 0h-2v-4h2v4z\"/>\n",
       "    </g>\n",
       "</svg>\n",
       "  </button>\n",
       "\n",
       "<style>\n",
       "  .colab-df-quickchart {\n",
       "      --bg-color: #E8F0FE;\n",
       "      --fill-color: #1967D2;\n",
       "      --hover-bg-color: #E2EBFA;\n",
       "      --hover-fill-color: #174EA6;\n",
       "      --disabled-fill-color: #AAA;\n",
       "      --disabled-bg-color: #DDD;\n",
       "  }\n",
       "\n",
       "  [theme=dark] .colab-df-quickchart {\n",
       "      --bg-color: #3B4455;\n",
       "      --fill-color: #D2E3FC;\n",
       "      --hover-bg-color: #434B5C;\n",
       "      --hover-fill-color: #FFFFFF;\n",
       "      --disabled-bg-color: #3B4455;\n",
       "      --disabled-fill-color: #666;\n",
       "  }\n",
       "\n",
       "  .colab-df-quickchart {\n",
       "    background-color: var(--bg-color);\n",
       "    border: none;\n",
       "    border-radius: 50%;\n",
       "    cursor: pointer;\n",
       "    display: none;\n",
       "    fill: var(--fill-color);\n",
       "    height: 32px;\n",
       "    padding: 0;\n",
       "    width: 32px;\n",
       "  }\n",
       "\n",
       "  .colab-df-quickchart:hover {\n",
       "    background-color: var(--hover-bg-color);\n",
       "    box-shadow: 0 1px 2px rgba(60, 64, 67, 0.3), 0 1px 3px 1px rgba(60, 64, 67, 0.15);\n",
       "    fill: var(--button-hover-fill-color);\n",
       "  }\n",
       "\n",
       "  .colab-df-quickchart-complete:disabled,\n",
       "  .colab-df-quickchart-complete:disabled:hover {\n",
       "    background-color: var(--disabled-bg-color);\n",
       "    fill: var(--disabled-fill-color);\n",
       "    box-shadow: none;\n",
       "  }\n",
       "\n",
       "  .colab-df-spinner {\n",
       "    border: 2px solid var(--fill-color);\n",
       "    border-color: transparent;\n",
       "    border-bottom-color: var(--fill-color);\n",
       "    animation:\n",
       "      spin 1s steps(1) infinite;\n",
       "  }\n",
       "\n",
       "  @keyframes spin {\n",
       "    0% {\n",
       "      border-color: transparent;\n",
       "      border-bottom-color: var(--fill-color);\n",
       "      border-left-color: var(--fill-color);\n",
       "    }\n",
       "    20% {\n",
       "      border-color: transparent;\n",
       "      border-left-color: var(--fill-color);\n",
       "      border-top-color: var(--fill-color);\n",
       "    }\n",
       "    30% {\n",
       "      border-color: transparent;\n",
       "      border-left-color: var(--fill-color);\n",
       "      border-top-color: var(--fill-color);\n",
       "      border-right-color: var(--fill-color);\n",
       "    }\n",
       "    40% {\n",
       "      border-color: transparent;\n",
       "      border-right-color: var(--fill-color);\n",
       "      border-top-color: var(--fill-color);\n",
       "    }\n",
       "    60% {\n",
       "      border-color: transparent;\n",
       "      border-right-color: var(--fill-color);\n",
       "    }\n",
       "    80% {\n",
       "      border-color: transparent;\n",
       "      border-right-color: var(--fill-color);\n",
       "      border-bottom-color: var(--fill-color);\n",
       "    }\n",
       "    90% {\n",
       "      border-color: transparent;\n",
       "      border-bottom-color: var(--fill-color);\n",
       "    }\n",
       "  }\n",
       "</style>\n",
       "\n",
       "  <script>\n",
       "    async function quickchart(key) {\n",
       "      const quickchartButtonEl =\n",
       "        document.querySelector('#' + key + ' button');\n",
       "      quickchartButtonEl.disabled = true;  // To prevent multiple clicks.\n",
       "      quickchartButtonEl.classList.add('colab-df-spinner');\n",
       "      try {\n",
       "        const charts = await google.colab.kernel.invokeFunction(\n",
       "            'suggestCharts', [key], {});\n",
       "      } catch (error) {\n",
       "        console.error('Error during call to suggestCharts:', error);\n",
       "      }\n",
       "      quickchartButtonEl.classList.remove('colab-df-spinner');\n",
       "      quickchartButtonEl.classList.add('colab-df-quickchart-complete');\n",
       "    }\n",
       "    (() => {\n",
       "      let quickchartButtonEl =\n",
       "        document.querySelector('#df-60c7c99e-f1d9-428d-bbd1-8293b06b4c21 button');\n",
       "      quickchartButtonEl.style.display =\n",
       "        google.colab.kernel.accessAllowed ? 'block' : 'none';\n",
       "    })();\n",
       "  </script>\n",
       "</div>\n",
       "\n",
       "  <div id=\"id_67c80765-2745-4f83-9756-2e368032ef1b\">\n",
       "    <style>\n",
       "      .colab-df-generate {\n",
       "        background-color: #E8F0FE;\n",
       "        border: none;\n",
       "        border-radius: 50%;\n",
       "        cursor: pointer;\n",
       "        display: none;\n",
       "        fill: #1967D2;\n",
       "        height: 32px;\n",
       "        padding: 0 0 0 0;\n",
       "        width: 32px;\n",
       "      }\n",
       "\n",
       "      .colab-df-generate:hover {\n",
       "        background-color: #E2EBFA;\n",
       "        box-shadow: 0px 1px 2px rgba(60, 64, 67, 0.3), 0px 1px 3px 1px rgba(60, 64, 67, 0.15);\n",
       "        fill: #174EA6;\n",
       "      }\n",
       "\n",
       "      [theme=dark] .colab-df-generate {\n",
       "        background-color: #3B4455;\n",
       "        fill: #D2E3FC;\n",
       "      }\n",
       "\n",
       "      [theme=dark] .colab-df-generate:hover {\n",
       "        background-color: #434B5C;\n",
       "        box-shadow: 0px 1px 3px 1px rgba(0, 0, 0, 0.15);\n",
       "        filter: drop-shadow(0px 1px 2px rgba(0, 0, 0, 0.3));\n",
       "        fill: #FFFFFF;\n",
       "      }\n",
       "    </style>\n",
       "    <button class=\"colab-df-generate\" onclick=\"generateWithVariable('cv_results')\"\n",
       "            title=\"Generate code using this dataframe.\"\n",
       "            style=\"display:none;\">\n",
       "\n",
       "  <svg xmlns=\"http://www.w3.org/2000/svg\" height=\"24px\"viewBox=\"0 0 24 24\"\n",
       "       width=\"24px\">\n",
       "    <path d=\"M7,19H8.4L18.45,9,17,7.55,7,17.6ZM5,21V16.75L18.45,3.32a2,2,0,0,1,2.83,0l1.4,1.43a1.91,1.91,0,0,1,.58,1.4,1.91,1.91,0,0,1-.58,1.4L9.25,21ZM18.45,9,17,7.55Zm-12,3A5.31,5.31,0,0,0,4.9,8.1,5.31,5.31,0,0,0,1,6.5,5.31,5.31,0,0,0,4.9,4.9,5.31,5.31,0,0,0,6.5,1,5.31,5.31,0,0,0,8.1,4.9,5.31,5.31,0,0,0,12,6.5,5.46,5.46,0,0,0,6.5,12Z\"/>\n",
       "  </svg>\n",
       "    </button>\n",
       "    <script>\n",
       "      (() => {\n",
       "      const buttonEl =\n",
       "        document.querySelector('#id_67c80765-2745-4f83-9756-2e368032ef1b button.colab-df-generate');\n",
       "      buttonEl.style.display =\n",
       "        google.colab.kernel.accessAllowed ? 'block' : 'none';\n",
       "\n",
       "      buttonEl.onclick = () => {\n",
       "        google.colab.notebook.generateWithVariable('cv_results');\n",
       "      }\n",
       "      })();\n",
       "    </script>\n",
       "  </div>\n",
       "\n",
       "    </div>\n",
       "  </div>\n"
      ],
      "text/plain": [
       "   mean_fit_time  std_fit_time  mean_score_time  std_score_time param_C  \\\n",
       "0       2.553694      0.276207         0.690253        0.065445       5   \n",
       "1       2.561911      0.246921         0.768502        0.120962       5   \n",
       "2       3.272647      0.699623         1.087060        0.598227       5   \n",
       "3       2.575888      0.279869         0.710398        0.035141      10   \n",
       "4       2.718134      0.247010         0.727607        0.061382      10   \n",
       "5       2.663212      0.267562         1.034805        0.475278      10   \n",
       "\n",
       "  param_gamma                      params  split0_test_score  \\\n",
       "0        0.01     {'C': 5, 'gamma': 0.01}           0.992721   \n",
       "1       0.001    {'C': 5, 'gamma': 0.001}           0.992721   \n",
       "2      0.0001   {'C': 5, 'gamma': 0.0001}           0.992721   \n",
       "3        0.01    {'C': 10, 'gamma': 0.01}           0.992721   \n",
       "4       0.001   {'C': 10, 'gamma': 0.001}           0.992721   \n",
       "5      0.0001  {'C': 10, 'gamma': 0.0001}           0.992721   \n",
       "\n",
       "   split1_test_score  split2_test_score  ...  mean_test_score  std_test_score  \\\n",
       "0           0.992714           0.993625  ...          0.99399        0.001688   \n",
       "1           0.992714           0.993625  ...          0.99399        0.001688   \n",
       "2           0.992714           0.993625  ...          0.99399        0.001688   \n",
       "3           0.992714           0.993625  ...          0.99399        0.001688   \n",
       "4           0.992714           0.993625  ...          0.99399        0.001688   \n",
       "5           0.992714           0.993625  ...          0.99399        0.001688   \n",
       "\n",
       "   rank_test_score  split0_train_score  split1_train_score  \\\n",
       "0                1                 1.0                 1.0   \n",
       "1                1                 1.0                 1.0   \n",
       "2                1                 1.0                 1.0   \n",
       "3                1                 1.0                 1.0   \n",
       "4                1                 1.0                 1.0   \n",
       "5                1                 1.0                 1.0   \n",
       "\n",
       "   split2_train_score  split3_train_score  split4_train_score  \\\n",
       "0                 1.0                 1.0                 1.0   \n",
       "1                 1.0                 1.0                 1.0   \n",
       "2                 1.0                 1.0                 1.0   \n",
       "3                 1.0                 1.0                 1.0   \n",
       "4                 1.0                 1.0                 1.0   \n",
       "5                 1.0                 1.0                 1.0   \n",
       "\n",
       "   mean_train_score  std_train_score  \n",
       "0               1.0              0.0  \n",
       "1               1.0              0.0  \n",
       "2               1.0              0.0  \n",
       "3               1.0              0.0  \n",
       "4               1.0              0.0  \n",
       "5               1.0              0.0  \n",
       "\n",
       "[6 rows x 22 columns]"
      ]
     },
     "execution_count": 42,
     "metadata": {},
     "output_type": "execute_result"
    }
   ],
   "source": [
    "# cv results\n",
    "cv_results = pd.DataFrame(model_cv.cv_results_)\n",
    "cv_results"
   ]
  },
  {
   "cell_type": "code",
   "execution_count": 43,
   "metadata": {
    "colab": {
     "base_uri": "https://localhost:8080/"
    },
    "id": "EGYb7Qv8O07y",
    "outputId": "3b47af64-641a-4259-8e91-0cb3d6dd46df"
   },
   "outputs": [
    {
     "name": "stdout",
     "output_type": "stream",
     "text": [
      "The best test score is 0.9939903969662767 corresponding to hyperparameters {'C': 5, 'gamma': 0.01}\n"
     ]
    }
   ],
   "source": [
    "# printing the optimal accuracy score and hyperparameters\n",
    "best_score = model_cv.best_score_\n",
    "best_hyperparams = model_cv.best_params_\n",
    "\n",
    "print(\"The best test score is {0} corresponding to hyperparameters {1}\".format(best_score, best_hyperparams))"
   ]
  },
  {
   "cell_type": "markdown",
   "metadata": {
    "id": "dwJ944VIBZ-u"
   },
   "source": [
    "## STEP 7: Model Training with Optimal Hyperparameters"
   ]
  },
  {
   "cell_type": "code",
   "execution_count": 44,
   "metadata": {
    "colab": {
     "base_uri": "https://localhost:8080/"
    },
    "id": "nSs5X4yOO36F",
    "outputId": "150ccb71-5664-4fbe-8a14-7f3deb643854"
   },
   "outputs": [
    {
     "name": "stdout",
     "output_type": "stream",
     "text": [
      "accuracy 0.9979361417991988 \n",
      "\n"
     ]
    }
   ],
   "source": [
    "# model with optimal hyperparameters\n",
    "\n",
    "# model\n",
    "model = SVC(C=10, gamma=0.001, kernel=\"linear\")\n",
    "\n",
    "model.fit(X_train, y_train)\n",
    "y_pred = model.predict(X_test)\n",
    "\n",
    "# metrics\n",
    "print(\"accuracy\", metrics.accuracy_score(y_test, y_pred), \"\\n\")"
   ]
  },
  {
   "cell_type": "markdown",
   "metadata": {
    "id": "kkuvZGnXBdvn"
   },
   "source": [
    "## STEP 8: Model Complexity Analysis for SVM"
   ]
  },
  {
   "cell_type": "code",
   "execution_count": 45,
   "metadata": {
    "colab": {
     "base_uri": "https://localhost:8080/",
     "height": 569
    },
    "id": "Ng-8eWLHBOGG",
    "outputId": "deca92fd-815f-4eab-af02-29b58dc48420"
   },
   "outputs": [
    {
     "data": {
      "image/png": "[encoded data removed]",
      "text/plain": [
       "<Figure size 1200x600 with 1 Axes>"
      ]
     },
     "metadata": {},
     "output_type": "display_data"
    }
   ],
   "source": [
    "from sklearn.svm import SVC\n",
    "\n",
    "# Model Complexity Analysis for SVM\n",
    "# Analyzing how the complexity of the SVM model (C parameter) affects accuracy\n",
    "# C_values = [0.1, 1, 10, 100]  # Adjust these values as needed for your analysis\n",
    "C_values = np.logspace(-3, 3, 7)\n",
    "train_accuracy = []\n",
    "test_accuracy = []\n",
    "\n",
    "for c in C_values:\n",
    "    svm_complexity = SVC(kernel='linear', C=c)  # Use appropriate kernel and parameters\n",
    "    svm_complexity.fit(X_train, y_train)\n",
    "    train_accuracy.append(svm_complexity.score(X_train, y_train))\n",
    "    test_accuracy.append(svm_complexity.score(X_test, y_test))\n",
    "\n",
    "# Plotting the results\n",
    "plt.figure(figsize=(12, 6))\n",
    "plt.plot(C_values, train_accuracy, label='Train Accuracy')\n",
    "plt.plot(C_values, test_accuracy, label='Test Accuracy')\n",
    "plt.xscale('log')  # Use log scale for C values\n",
    "plt.xlabel('C (Regularization Parameter)')\n",
    "plt.ylabel('Accuracy')\n",
    "plt.title('SVM Model Complexity: Accuracy vs. Regularization Parameter (C)')\n",
    "plt.legend()\n",
    "plt.show()\n"
   ]
  },
  {
   "cell_type": "markdown",
   "metadata": {
    "id": "87xHZGh5Bh3U"
   },
   "source": [
    "## STEP 9: Accuracy vs. Training Data Size Analysis"
   ]
  },
  {
   "cell_type": "code",
   "execution_count": 46,
   "metadata": {
    "colab": {
     "base_uri": "https://localhost:8080/",
     "height": 564
    },
    "id": "rSIoQz3CCrJb",
    "outputId": "5c076b44-e5de-4c95-be47-eb873b7c36f4"
   },
   "outputs": [
    {
     "data": {
      "image/png": "[encoded data removed]",
      "text/plain": [
       "<Figure size 1200x600 with 1 Axes>"
      ]
     },
     "metadata": {},
     "output_type": "display_data"
    }
   ],
   "source": [
    "from sklearn.svm import SVC\n",
    "from sklearn.metrics import accuracy_score\n",
    "\n",
    "# Function to calculate accuracy with different sizes of training data for SVM\n",
    "def calculate_accuracy_vs_datasize_svm(X_train, y_train, X_test, y_test, step_size=0.05):\n",
    "    accuracies = []\n",
    "    training_sizes = []\n",
    "\n",
    "    for size in np.arange(step_size, 1 + step_size, step_size):\n",
    "        # Determine the size of the current subset\n",
    "        subset_size = int(size * len(X_train))\n",
    "        training_sizes.append(subset_size)\n",
    "\n",
    "        # Subset of the training data\n",
    "        subset_X_train = X_train[:subset_size]\n",
    "        subset_y_train = y_train[:subset_size]\n",
    "\n",
    "        # Train the SVM classifier and calculate accuracy\n",
    "        svm_classifier = SVC(kernel='linear', C=1.0)  # Use appropriate kernel and parameters\n",
    "        svm_classifier.fit(subset_X_train, subset_y_train)\n",
    "        y_pred = svm_classifier.predict(X_test)\n",
    "        accuracy = accuracy_score(y_test, y_pred)\n",
    "        accuracies.append(accuracy)\n",
    "\n",
    "    return training_sizes, accuracies\n",
    "\n",
    "# Calculate accuracies with different sizes of training data for SVM\n",
    "training_sizes_svm, accuracies_svm = calculate_accuracy_vs_datasize_svm(\n",
    "    X_train, y_train, X_test, y_test\n",
    ")\n",
    "\n",
    "# Plot the results for SVM\n",
    "plt.figure(figsize=(12, 6))\n",
    "plt.plot(training_sizes_svm, accuracies_svm, marker='o')\n",
    "plt.title('Accuracy vs Training Data Size (SVM)')\n",
    "plt.xlabel('Training Data Size')\n",
    "plt.ylabel('Accuracy')\n",
    "plt.grid(True)\n",
    "plt.show()"
   ]
  },
  {
   "cell_type": "markdown",
   "metadata": {
    "id": "BVirRYXQBlj5"
   },
   "source": [
    "## STEP 10: Comparison of Linear vs. Non-linear Kernel SVM"
   ]
  },
  {
   "cell_type": "code",
   "execution_count": 47,
   "metadata": {
    "colab": {
     "base_uri": "https://localhost:8080/",
     "height": 564
    },
    "id": "5woma5HyMrR5",
    "outputId": "83886901-bb32-4cf7-bbf7-be7808881726"
   },
   "outputs": [
    {
     "data": {
      "image/png": "[encoded data removed]",
      "text/plain": [
       "<Figure size 800x600 with 1 Axes>"
      ]
     },
     "metadata": {},
     "output_type": "display_data"
    }
   ],
   "source": [
    "from sklearn.metrics import accuracy_score\n",
    "\n",
    "# Create empty lists to store accuracies for linear and non-linear models\n",
    "linear_accuracies = []\n",
    "non_linear_accuracies = []\n",
    "training_sizes = []\n",
    "\n",
    "# Define different training dataset sizes\n",
    "for size in range(10, 101, 10):  # Adjust range according to your needs\n",
    "    subset_size = int(size / 100 * len(X_train))  # Subset size as a percentage of the full training data\n",
    "    X_train_subset = X_train[:subset_size]\n",
    "    y_train_subset = y_train[:subset_size]\n",
    "    training_sizes.append(subset_size)\n",
    "\n",
    "    # Train linear model\n",
    "    model_linear = SVC(kernel='linear')\n",
    "    model_linear.fit(X_train_subset, y_train_subset)\n",
    "    y_pred_linear = model_linear.predict(X_test)\n",
    "    accuracy_linear = accuracy_score(y_test, y_pred_linear)\n",
    "    linear_accuracies.append(accuracy_linear)\n",
    "\n",
    "    # Train non-linear model (RBF kernel)\n",
    "    non_linear_model = SVC(kernel='rbf')\n",
    "    non_linear_model.fit(X_train_subset, y_train_subset)\n",
    "    y_pred_non_linear = non_linear_model.predict(X_test)\n",
    "    accuracy_non_linear = accuracy_score(y_test, y_pred_non_linear)\n",
    "    non_linear_accuracies.append(accuracy_non_linear)\n",
    "\n",
    "# Plotting the comparison\n",
    "plt.figure(figsize=(8, 6))\n",
    "plt.plot(training_sizes, linear_accuracies, marker='o', label='Linear Kernel', color='blue')\n",
    "plt.plot(training_sizes, non_linear_accuracies, marker='o', label='RBF Kernel', color='green')\n",
    "plt.title('Accuracy Comparison: Linear vs. RBF Kernel for Different Training Data Sizes')\n",
    "plt.xlabel('Training Data Size')\n",
    "plt.ylabel('Accuracy')\n",
    "plt.legend()\n",
    "plt.grid(True)\n",
    "plt.show()\n"
   ]
  },
  {
   "cell_type": "code",
   "execution_count": null,
   "metadata": {},
   "outputs": [],
   "source": []
  },
  {
   "cell_type": "markdown",
   "metadata": {},
   "source": [
    "# Support Vector Machine for Indian Sign Language"
   ]
  },
  {
   "cell_type": "markdown",
   "metadata": {},
   "source": [
    "## SVM on ISL dataset Linear Kernel"
   ]
  },
  {
   "cell_type": "markdown",
   "metadata": {},
   "source": [
    "### Import all the dependencies and Load data"
   ]
  },
  {
   "cell_type": "code",
   "execution_count": 1,
   "metadata": {},
   "outputs": [],
   "source": [
    "import pandas as pd\n",
    "import numpy as np\n",
    "from skimage.io import imread\n",
    "from skimage.transform import resize\n",
    "from sklearn.model_selection import train_test_split\n",
    "from sklearn.preprocessing import minmax_scale\n",
    "from sklearn.svm import SVC\n",
    "from sklearn.metrics import accuracy_score, precision_recall_fscore_support"
   ]
  },
  {
   "cell_type": "code",
   "execution_count": 2,
   "metadata": {},
   "outputs": [],
   "source": [
    "def process_image(file_path, image_size=(64, 64)):\n",
    "    image = imread(file_path)\n",
    "    image_resized = resize(image, image_size, anti_aliasing=True)\n",
    "    return image_resized.flatten()"
   ]
  },
  {
   "cell_type": "code",
   "execution_count": 3,
   "metadata": {},
   "outputs": [],
   "source": [
    "# Replace 'path/to/train_classes.csv' with the actual path to your CSV file\n",
    "train_data_path = '/Users/swapn/Downloads/data/train_classes.csv'\n",
    "train_df = pd.read_csv(train_data_path)\n",
    "\n",
    "# Replace 'path/to/images/' with the actual path to your images directory\n",
    "train_features = np.array([process_image(f'/Users/swapn/Downloads/data/train/{fname}') for fname in train_df['filename']])"
   ]
  },
  {
   "cell_type": "markdown",
   "metadata": {},
   "source": [
    "###  Building the model"
   ]
  },
  {
   "cell_type": "code",
   "execution_count": 4,
   "metadata": {},
   "outputs": [
    {
     "data": {
      "text/plain": [
       "SVC(kernel='linear')"
      ]
     },
     "execution_count": 4,
     "metadata": {},
     "output_type": "execute_result"
    }
   ],
   "source": [
    "train_labels = train_df.drop(columns=['filename']).values\n",
    "\n",
    "train_features_scaled = minmax_scale(train_features)\n",
    "\n",
    "# Initialize the SVM classifier\n",
    "svm_classifier = SVC(kernel='linear') \n",
    "\n",
    "# Fit the classifier on the scaled training data\n",
    "# svm_classifier.fit(train_features_scaled, train_labels)\n",
    "\n",
    "# Convert the one-hot encoded labels to single integer labels\n",
    "train_labels_single = np.argmax(train_labels, axis=1)\n",
    "\n",
    "# fit the classifier on the scaled training data with the correct shape of labels\n",
    "svm_classifier.fit(train_features_scaled, train_labels_single)"
   ]
  },
  {
   "cell_type": "markdown",
   "metadata": {},
   "source": [
    "### Calculating the Score"
   ]
  },
  {
   "cell_type": "code",
   "execution_count": 5,
   "metadata": {},
   "outputs": [
    {
     "name": "stdout",
     "output_type": "stream",
     "text": [
      "Accuracy: 0.972180824639841\n",
      "Precision: 0.9725916453686667\n",
      "Recall: 0.972180824639841\n",
      "F1 Score: 0.9720361424653999\n"
     ]
    }
   ],
   "source": [
    "# Replace with your validation data path and processing\n",
    "valid_data_path = '/Users/swapn/Downloads/data/valid_classes.csv'\n",
    "valid_df = pd.read_csv(valid_data_path)\n",
    "valid_features = np.array([process_image(f'/Users/swapn/Downloads/data/valid/{fname}') for fname in valid_df['filename']])\n",
    "\n",
    "# If valid_labels are one-hot encoded, convert them to single integer labels\n",
    "valid_labels = valid_df.drop(columns=['filename']).values\n",
    "if valid_labels.ndim > 1 and valid_labels.shape[1] > 1:\n",
    "    valid_labels_single = np.argmax(valid_labels, axis=1)\n",
    "else:\n",
    "    valid_labels_single = valid_labels.ravel()\n",
    "\n",
    "valid_features_scaled = minmax_scale(valid_features)\n",
    "\n",
    "# Make predictions on the validation set using the SVM classifier\n",
    "valid_predictions = svm_classifier.predict(valid_features_scaled)\n",
    "\n",
    "# Calculate metrics for the validation set\n",
    "accuracy = accuracy_score(valid_labels_single, valid_predictions)\n",
    "precision, recall, fscore, _ = precision_recall_fscore_support(valid_labels_single, valid_predictions, average='weighted')\n",
    "\n",
    "# Print out the metrics\n",
    "print(f'Accuracy: {accuracy}')\n",
    "print(f'Precision: {precision}')\n",
    "print(f'Recall: {recall}')\n",
    "print(f'F1 Score: {fscore}')\n"
   ]
  },
  {
   "cell_type": "markdown",
   "metadata": {},
   "source": [
    "### Calculating the score on TEST data"
   ]
  },
  {
   "cell_type": "code",
   "execution_count": 6,
   "metadata": {},
   "outputs": [
    {
     "name": "stdout",
     "output_type": "stream",
     "text": [
      "Accuracy: 0.9667493796526054\n",
      "Precision: 0.967550127290174\n",
      "Recall: 0.9667493796526054\n",
      "F1 Score: 0.9667427462201538\n"
     ]
    }
   ],
   "source": [
    "# Replace with your test data path and processing\n",
    "test_data_path = '/Users/swapn/Downloads/data/test_classes.csv'\n",
    "test_df = pd.read_csv(test_data_path)\n",
    "test_features = np.array([process_image(f'/Users/swapn/Downloads/data/test/{fname}') for fname in test_df['filename']])\n",
    "\n",
    "# If test_labels are one-hot encoded, convert them to single integer labels\n",
    "test_labels = test_df.drop(columns=['filename']).values\n",
    "if test_labels.ndim > 1 and test_labels.shape[1] > 1:\n",
    "    test_labels_single = np.argmax(test_labels, axis=1)\n",
    "else:\n",
    "    test_labels_single = test_labels.ravel()\n",
    "\n",
    "test_features_scaled = minmax_scale(test_features)\n",
    "\n",
    "# Make predictions on the test set using the SVM classifier\n",
    "test_predictions = svm_classifier.predict(test_features_scaled)\n",
    "\n",
    "# Calculate metrics for the test set\n",
    "accuracy = accuracy_score(test_labels_single, test_predictions)\n",
    "precision, recall, fscore, _ = precision_recall_fscore_support(test_labels_single, test_predictions, average='weighted')\n",
    "\n",
    "# Print out the metrics\n",
    "print(f'Accuracy: {accuracy}')\n",
    "print(f'Precision: {precision}')\n",
    "print(f'Recall: {recall}')\n",
    "print(f'F1 Score: {fscore}')\n"
   ]
  },
  {
   "cell_type": "markdown",
   "metadata": {},
   "source": [
    "## Plotting the graph for Confusion matrix"
   ]
  },
  {
   "cell_type": "code",
   "execution_count": 7,
   "metadata": {},
   "outputs": [
    {
     "data": {
      "image/png": "[encoded data removed]",
      "text/plain": [
       "<Figure size 432x288 with 2 Axes>"
      ]
     },
     "metadata": {
      "needs_background": "light"
     },
     "output_type": "display_data"
    }
   ],
   "source": [
    "import matplotlib.pyplot as plt\n",
    "from sklearn.metrics import confusion_matrix\n",
    "import seaborn as sns\n",
    "\n",
    "# Assuming valid_labels_single and valid_predictions are available from your validation set\n",
    "cm = confusion_matrix(valid_labels_single, valid_predictions)\n",
    "sns.heatmap(cm, annot=True, fmt='d')\n",
    "plt.title('Confusion Matrix')\n",
    "plt.ylabel('Actual Label')\n",
    "plt.xlabel('Predicted Label')\n",
    "plt.show()\n"
   ]
  },
  {
   "cell_type": "markdown",
   "metadata": {},
   "source": [
    "## SVM on ISL dataset Non-Linear (RBF) kernel"
   ]
  },
  {
   "cell_type": "markdown",
   "metadata": {},
   "source": [
    "## Training the non-linear model"
   ]
  },
  {
   "cell_type": "code",
   "execution_count": 8,
   "metadata": {},
   "outputs": [
    {
     "data": {
      "text/plain": [
       "SVC()"
      ]
     },
     "execution_count": 8,
     "metadata": {},
     "output_type": "execute_result"
    }
   ],
   "source": [
    "\n",
    "# Initialize the SVM classifier\n",
    "svm_classifier = SVC(kernel='rbf') \n",
    "\n",
    "# Fit the classifier on the scaled training data\n",
    "# svm_classifier.fit(train_features_scaled, train_labels)\n",
    "\n",
    "# Convert the one-hot encoded labels to single integer labels\n",
    "train_labels_single = np.argmax(train_labels, axis=1)\n",
    "\n",
    "# fit the classifier on the scaled training data with the correct shape of labels\n",
    "svm_classifier.fit(train_features_scaled, train_labels_single)"
   ]
  },
  {
   "cell_type": "markdown",
   "metadata": {},
   "source": [
    "## Calculating Accuracies for Non-linear model"
   ]
  },
  {
   "cell_type": "code",
   "execution_count": 9,
   "metadata": {},
   "outputs": [
    {
     "name": "stdout",
     "output_type": "stream",
     "text": [
      "Accuracy: 0.9806451612903225\n",
      "Precision: 0.9813608775746392\n",
      "Recall: 0.9806451612903225\n",
      "F1 Score: 0.9806164780079211\n"
     ]
    }
   ],
   "source": [
    "# Replace with your test data path and processing\n",
    "test_data_path = '/Users/swapn/Downloads/data/test_classes.csv'\n",
    "test_df = pd.read_csv(test_data_path)\n",
    "test_features = np.array([process_image(f'/Users/swapn/Downloads/data/test/{fname}') for fname in test_df['filename']])\n",
    "\n",
    "# If test_labels are one-hot encoded, convert them to single integer labels\n",
    "test_labels = test_df.drop(columns=['filename']).values\n",
    "if test_labels.ndim > 1 and test_labels.shape[1] > 1:\n",
    "    test_labels_single = np.argmax(test_labels, axis=1)\n",
    "else:\n",
    "    test_labels_single = test_labels.ravel()\n",
    "\n",
    "test_features_scaled = minmax_scale(test_features)\n",
    "\n",
    "# Make predictions on the test set using the SVM classifier\n",
    "test_predictions = svm_classifier.predict(test_features_scaled)\n",
    "\n",
    "# Calculate metrics for the test set\n",
    "accuracy = accuracy_score(test_labels_single, test_predictions)\n",
    "precision, recall, fscore, _ = precision_recall_fscore_support(test_labels_single, test_predictions, average='weighted')\n",
    "\n",
    "# Print out the metrics\n",
    "print(f'Accuracy: {accuracy}')\n",
    "print(f'Precision: {precision}')\n",
    "print(f'Recall: {recall}')\n",
    "print(f'F1 Score: {fscore}')"
   ]
  },
  {
   "cell_type": "code",
   "execution_count": null,
   "metadata": {},
   "outputs": [],
   "source": []
  }
 ],
 "metadata": {
  "colab": {
   "provenance": []
  },
  "kernelspec": {
   "display_name": "Python 3 (ipykernel)",
   "language": "python",
   "name": "python3"
  },
  "language_info": {
   "codemirror_mode": {
    "name": "ipython",
    "version": 3
   },
   "file_extension": ".py",
   "mimetype": "text/x-python",
   "name": "python",
   "nbconvert_exporter": "python",
   "pygments_lexer": "ipython3",
   "version": "3.9.12"
  }
 },
 "nbformat": 4,
 "nbformat_minor": 1
}
